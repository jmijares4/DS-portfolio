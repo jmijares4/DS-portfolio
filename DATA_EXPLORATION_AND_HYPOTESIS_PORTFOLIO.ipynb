{
  "cells": [
    {
      "cell_type": "code",
      "execution_count": 1,
      "metadata": {
        "id": "aspsJNzvkS91"
      },
      "outputs": [],
      "source": [
        "import pandas as pd\n",
        "import csv\n",
        "import matplotlib.pyplot as plt\n",
        "import numpy as np\n",
        "import scipy.stats as stats"
      ]
    },
    {
      "cell_type": "code",
      "execution_count": 21,
      "metadata": {
        "id": "mr2Q3xJQkd9v"
      },
      "outputs": [],
      "source": [
        "data = pd.read_csv('filteredgss.csv', low_memory=False)"
      ]
    },
    {
      "cell_type": "markdown",
      "metadata": {
        "id": "J9SZRQdMlHMC"
      },
      "source": [
        "## FRIST IS NEEDED TO EXAMINE DE DATA TO KNOW THE NAME OF THE COLUMNS, AS IS STATED ABOVE THAT THERE ARE SEVERAL COLUMNS WITH DIFFERENT DATA TYPES."
      ]
    },
    {
      "cell_type": "markdown",
      "metadata": {
        "id": "Iz95I19KmInq"
      },
      "source": [
        "THE DATA IS TAKEN FROM THE \"GENERAL SOCIAL SURVEY\" FROM THE UNIVERSITY OF CHICAGO FROM 1972 TO 2012."
      ]
    },
    {
      "cell_type": "code",
      "execution_count": 22,
      "metadata": {
        "colab": {
          "base_uri": "https://localhost:8080/",
          "height": 256
        },
        "id": "wR7HMcFRlAPE",
        "outputId": "ea1b1274-c8fa-4ea2-e29a-b0c33b740be6"
      },
      "outputs": [
        {
          "output_type": "execute_result",
          "data": {
            "text/plain": [
              "   caseid  year   age     sex   race  hispanic  uscitzn  educ  paeduc  maeduc  \\\n",
              "0    1614  1973  54.0    Male  White       NaN      NaN     6     NaN     NaN   \n",
              "1    1615  1973  51.0  Female  White       NaN      NaN     8     8.0     6.0   \n",
              "2    1616  1973  36.0  Female  White       NaN      NaN    11    12.0    12.0   \n",
              "3    1617  1973  32.0    Male  White       NaN      NaN    12     8.0    12.0   \n",
              "4    1618  1973  54.0  Female  White       NaN      NaN     8     6.0     8.0   \n",
              "\n",
              "   ...  news tvhours racdif1  racdif2 racdif3 racdif4 helppoor helpnot  \\\n",
              "0  ...   NaN     NaN     NaN      NaN     NaN     NaN      NaN     NaN   \n",
              "1  ...   NaN     NaN     NaN      NaN     NaN     NaN      NaN     NaN   \n",
              "2  ...   NaN     NaN     NaN      NaN     NaN     NaN      NaN     NaN   \n",
              "3  ...   NaN     NaN     NaN      NaN     NaN     NaN      NaN     NaN   \n",
              "4  ...   NaN     NaN     NaN      NaN     NaN     NaN      NaN     NaN   \n",
              "\n",
              "   helpsick  helpblk  \n",
              "0       NaN      NaN  \n",
              "1       NaN      NaN  \n",
              "2       NaN      NaN  \n",
              "3       NaN      NaN  \n",
              "4       NaN      NaN  \n",
              "\n",
              "[5 rows x 114 columns]"
            ],
            "text/html": [
              "\n",
              "  <div id=\"df-a9c711b0-d554-4722-b74d-bd3d61eb5e0f\" class=\"colab-df-container\">\n",
              "    <div>\n",
              "<style scoped>\n",
              "    .dataframe tbody tr th:only-of-type {\n",
              "        vertical-align: middle;\n",
              "    }\n",
              "\n",
              "    .dataframe tbody tr th {\n",
              "        vertical-align: top;\n",
              "    }\n",
              "\n",
              "    .dataframe thead th {\n",
              "        text-align: right;\n",
              "    }\n",
              "</style>\n",
              "<table border=\"1\" class=\"dataframe\">\n",
              "  <thead>\n",
              "    <tr style=\"text-align: right;\">\n",
              "      <th></th>\n",
              "      <th>caseid</th>\n",
              "      <th>year</th>\n",
              "      <th>age</th>\n",
              "      <th>sex</th>\n",
              "      <th>race</th>\n",
              "      <th>hispanic</th>\n",
              "      <th>uscitzn</th>\n",
              "      <th>educ</th>\n",
              "      <th>paeduc</th>\n",
              "      <th>maeduc</th>\n",
              "      <th>...</th>\n",
              "      <th>news</th>\n",
              "      <th>tvhours</th>\n",
              "      <th>racdif1</th>\n",
              "      <th>racdif2</th>\n",
              "      <th>racdif3</th>\n",
              "      <th>racdif4</th>\n",
              "      <th>helppoor</th>\n",
              "      <th>helpnot</th>\n",
              "      <th>helpsick</th>\n",
              "      <th>helpblk</th>\n",
              "    </tr>\n",
              "  </thead>\n",
              "  <tbody>\n",
              "    <tr>\n",
              "      <th>0</th>\n",
              "      <td>1614</td>\n",
              "      <td>1973</td>\n",
              "      <td>54.0</td>\n",
              "      <td>Male</td>\n",
              "      <td>White</td>\n",
              "      <td>NaN</td>\n",
              "      <td>NaN</td>\n",
              "      <td>6</td>\n",
              "      <td>NaN</td>\n",
              "      <td>NaN</td>\n",
              "      <td>...</td>\n",
              "      <td>NaN</td>\n",
              "      <td>NaN</td>\n",
              "      <td>NaN</td>\n",
              "      <td>NaN</td>\n",
              "      <td>NaN</td>\n",
              "      <td>NaN</td>\n",
              "      <td>NaN</td>\n",
              "      <td>NaN</td>\n",
              "      <td>NaN</td>\n",
              "      <td>NaN</td>\n",
              "    </tr>\n",
              "    <tr>\n",
              "      <th>1</th>\n",
              "      <td>1615</td>\n",
              "      <td>1973</td>\n",
              "      <td>51.0</td>\n",
              "      <td>Female</td>\n",
              "      <td>White</td>\n",
              "      <td>NaN</td>\n",
              "      <td>NaN</td>\n",
              "      <td>8</td>\n",
              "      <td>8.0</td>\n",
              "      <td>6.0</td>\n",
              "      <td>...</td>\n",
              "      <td>NaN</td>\n",
              "      <td>NaN</td>\n",
              "      <td>NaN</td>\n",
              "      <td>NaN</td>\n",
              "      <td>NaN</td>\n",
              "      <td>NaN</td>\n",
              "      <td>NaN</td>\n",
              "      <td>NaN</td>\n",
              "      <td>NaN</td>\n",
              "      <td>NaN</td>\n",
              "    </tr>\n",
              "    <tr>\n",
              "      <th>2</th>\n",
              "      <td>1616</td>\n",
              "      <td>1973</td>\n",
              "      <td>36.0</td>\n",
              "      <td>Female</td>\n",
              "      <td>White</td>\n",
              "      <td>NaN</td>\n",
              "      <td>NaN</td>\n",
              "      <td>11</td>\n",
              "      <td>12.0</td>\n",
              "      <td>12.0</td>\n",
              "      <td>...</td>\n",
              "      <td>NaN</td>\n",
              "      <td>NaN</td>\n",
              "      <td>NaN</td>\n",
              "      <td>NaN</td>\n",
              "      <td>NaN</td>\n",
              "      <td>NaN</td>\n",
              "      <td>NaN</td>\n",
              "      <td>NaN</td>\n",
              "      <td>NaN</td>\n",
              "      <td>NaN</td>\n",
              "    </tr>\n",
              "    <tr>\n",
              "      <th>3</th>\n",
              "      <td>1617</td>\n",
              "      <td>1973</td>\n",
              "      <td>32.0</td>\n",
              "      <td>Male</td>\n",
              "      <td>White</td>\n",
              "      <td>NaN</td>\n",
              "      <td>NaN</td>\n",
              "      <td>12</td>\n",
              "      <td>8.0</td>\n",
              "      <td>12.0</td>\n",
              "      <td>...</td>\n",
              "      <td>NaN</td>\n",
              "      <td>NaN</td>\n",
              "      <td>NaN</td>\n",
              "      <td>NaN</td>\n",
              "      <td>NaN</td>\n",
              "      <td>NaN</td>\n",
              "      <td>NaN</td>\n",
              "      <td>NaN</td>\n",
              "      <td>NaN</td>\n",
              "      <td>NaN</td>\n",
              "    </tr>\n",
              "    <tr>\n",
              "      <th>4</th>\n",
              "      <td>1618</td>\n",
              "      <td>1973</td>\n",
              "      <td>54.0</td>\n",
              "      <td>Female</td>\n",
              "      <td>White</td>\n",
              "      <td>NaN</td>\n",
              "      <td>NaN</td>\n",
              "      <td>8</td>\n",
              "      <td>6.0</td>\n",
              "      <td>8.0</td>\n",
              "      <td>...</td>\n",
              "      <td>NaN</td>\n",
              "      <td>NaN</td>\n",
              "      <td>NaN</td>\n",
              "      <td>NaN</td>\n",
              "      <td>NaN</td>\n",
              "      <td>NaN</td>\n",
              "      <td>NaN</td>\n",
              "      <td>NaN</td>\n",
              "      <td>NaN</td>\n",
              "      <td>NaN</td>\n",
              "    </tr>\n",
              "  </tbody>\n",
              "</table>\n",
              "<p>5 rows × 114 columns</p>\n",
              "</div>\n",
              "    <div class=\"colab-df-buttons\">\n",
              "\n",
              "  <div class=\"colab-df-container\">\n",
              "    <button class=\"colab-df-convert\" onclick=\"convertToInteractive('df-a9c711b0-d554-4722-b74d-bd3d61eb5e0f')\"\n",
              "            title=\"Convert this dataframe to an interactive table.\"\n",
              "            style=\"display:none;\">\n",
              "\n",
              "  <svg xmlns=\"http://www.w3.org/2000/svg\" height=\"24px\" viewBox=\"0 -960 960 960\">\n",
              "    <path d=\"M120-120v-720h720v720H120Zm60-500h600v-160H180v160Zm220 220h160v-160H400v160Zm0 220h160v-160H400v160ZM180-400h160v-160H180v160Zm440 0h160v-160H620v160ZM180-180h160v-160H180v160Zm440 0h160v-160H620v160Z\"/>\n",
              "  </svg>\n",
              "    </button>\n",
              "\n",
              "  <style>\n",
              "    .colab-df-container {\n",
              "      display:flex;\n",
              "      gap: 12px;\n",
              "    }\n",
              "\n",
              "    .colab-df-convert {\n",
              "      background-color: #E8F0FE;\n",
              "      border: none;\n",
              "      border-radius: 50%;\n",
              "      cursor: pointer;\n",
              "      display: none;\n",
              "      fill: #1967D2;\n",
              "      height: 32px;\n",
              "      padding: 0 0 0 0;\n",
              "      width: 32px;\n",
              "    }\n",
              "\n",
              "    .colab-df-convert:hover {\n",
              "      background-color: #E2EBFA;\n",
              "      box-shadow: 0px 1px 2px rgba(60, 64, 67, 0.3), 0px 1px 3px 1px rgba(60, 64, 67, 0.15);\n",
              "      fill: #174EA6;\n",
              "    }\n",
              "\n",
              "    .colab-df-buttons div {\n",
              "      margin-bottom: 4px;\n",
              "    }\n",
              "\n",
              "    [theme=dark] .colab-df-convert {\n",
              "      background-color: #3B4455;\n",
              "      fill: #D2E3FC;\n",
              "    }\n",
              "\n",
              "    [theme=dark] .colab-df-convert:hover {\n",
              "      background-color: #434B5C;\n",
              "      box-shadow: 0px 1px 3px 1px rgba(0, 0, 0, 0.15);\n",
              "      filter: drop-shadow(0px 1px 2px rgba(0, 0, 0, 0.3));\n",
              "      fill: #FFFFFF;\n",
              "    }\n",
              "  </style>\n",
              "\n",
              "    <script>\n",
              "      const buttonEl =\n",
              "        document.querySelector('#df-a9c711b0-d554-4722-b74d-bd3d61eb5e0f button.colab-df-convert');\n",
              "      buttonEl.style.display =\n",
              "        google.colab.kernel.accessAllowed ? 'block' : 'none';\n",
              "\n",
              "      async function convertToInteractive(key) {\n",
              "        const element = document.querySelector('#df-a9c711b0-d554-4722-b74d-bd3d61eb5e0f');\n",
              "        const dataTable =\n",
              "          await google.colab.kernel.invokeFunction('convertToInteractive',\n",
              "                                                    [key], {});\n",
              "        if (!dataTable) return;\n",
              "\n",
              "        const docLinkHtml = 'Like what you see? Visit the ' +\n",
              "          '<a target=\"_blank\" href=https://colab.research.google.com/notebooks/data_table.ipynb>data table notebook</a>'\n",
              "          + ' to learn more about interactive tables.';\n",
              "        element.innerHTML = '';\n",
              "        dataTable['output_type'] = 'display_data';\n",
              "        await google.colab.output.renderOutput(dataTable, element);\n",
              "        const docLink = document.createElement('div');\n",
              "        docLink.innerHTML = docLinkHtml;\n",
              "        element.appendChild(docLink);\n",
              "      }\n",
              "    </script>\n",
              "  </div>\n",
              "\n",
              "\n",
              "<div id=\"df-1fcb0046-13cd-4009-a926-11f2ce87b0d9\">\n",
              "  <button class=\"colab-df-quickchart\" onclick=\"quickchart('df-1fcb0046-13cd-4009-a926-11f2ce87b0d9')\"\n",
              "            title=\"Suggest charts\"\n",
              "            style=\"display:none;\">\n",
              "\n",
              "<svg xmlns=\"http://www.w3.org/2000/svg\" height=\"24px\"viewBox=\"0 0 24 24\"\n",
              "     width=\"24px\">\n",
              "    <g>\n",
              "        <path d=\"M19 3H5c-1.1 0-2 .9-2 2v14c0 1.1.9 2 2 2h14c1.1 0 2-.9 2-2V5c0-1.1-.9-2-2-2zM9 17H7v-7h2v7zm4 0h-2V7h2v10zm4 0h-2v-4h2v4z\"/>\n",
              "    </g>\n",
              "</svg>\n",
              "  </button>\n",
              "\n",
              "<style>\n",
              "  .colab-df-quickchart {\n",
              "      --bg-color: #E8F0FE;\n",
              "      --fill-color: #1967D2;\n",
              "      --hover-bg-color: #E2EBFA;\n",
              "      --hover-fill-color: #174EA6;\n",
              "      --disabled-fill-color: #AAA;\n",
              "      --disabled-bg-color: #DDD;\n",
              "  }\n",
              "\n",
              "  [theme=dark] .colab-df-quickchart {\n",
              "      --bg-color: #3B4455;\n",
              "      --fill-color: #D2E3FC;\n",
              "      --hover-bg-color: #434B5C;\n",
              "      --hover-fill-color: #FFFFFF;\n",
              "      --disabled-bg-color: #3B4455;\n",
              "      --disabled-fill-color: #666;\n",
              "  }\n",
              "\n",
              "  .colab-df-quickchart {\n",
              "    background-color: var(--bg-color);\n",
              "    border: none;\n",
              "    border-radius: 50%;\n",
              "    cursor: pointer;\n",
              "    display: none;\n",
              "    fill: var(--fill-color);\n",
              "    height: 32px;\n",
              "    padding: 0;\n",
              "    width: 32px;\n",
              "  }\n",
              "\n",
              "  .colab-df-quickchart:hover {\n",
              "    background-color: var(--hover-bg-color);\n",
              "    box-shadow: 0 1px 2px rgba(60, 64, 67, 0.3), 0 1px 3px 1px rgba(60, 64, 67, 0.15);\n",
              "    fill: var(--button-hover-fill-color);\n",
              "  }\n",
              "\n",
              "  .colab-df-quickchart-complete:disabled,\n",
              "  .colab-df-quickchart-complete:disabled:hover {\n",
              "    background-color: var(--disabled-bg-color);\n",
              "    fill: var(--disabled-fill-color);\n",
              "    box-shadow: none;\n",
              "  }\n",
              "\n",
              "  .colab-df-spinner {\n",
              "    border: 2px solid var(--fill-color);\n",
              "    border-color: transparent;\n",
              "    border-bottom-color: var(--fill-color);\n",
              "    animation:\n",
              "      spin 1s steps(1) infinite;\n",
              "  }\n",
              "\n",
              "  @keyframes spin {\n",
              "    0% {\n",
              "      border-color: transparent;\n",
              "      border-bottom-color: var(--fill-color);\n",
              "      border-left-color: var(--fill-color);\n",
              "    }\n",
              "    20% {\n",
              "      border-color: transparent;\n",
              "      border-left-color: var(--fill-color);\n",
              "      border-top-color: var(--fill-color);\n",
              "    }\n",
              "    30% {\n",
              "      border-color: transparent;\n",
              "      border-left-color: var(--fill-color);\n",
              "      border-top-color: var(--fill-color);\n",
              "      border-right-color: var(--fill-color);\n",
              "    }\n",
              "    40% {\n",
              "      border-color: transparent;\n",
              "      border-right-color: var(--fill-color);\n",
              "      border-top-color: var(--fill-color);\n",
              "    }\n",
              "    60% {\n",
              "      border-color: transparent;\n",
              "      border-right-color: var(--fill-color);\n",
              "    }\n",
              "    80% {\n",
              "      border-color: transparent;\n",
              "      border-right-color: var(--fill-color);\n",
              "      border-bottom-color: var(--fill-color);\n",
              "    }\n",
              "    90% {\n",
              "      border-color: transparent;\n",
              "      border-bottom-color: var(--fill-color);\n",
              "    }\n",
              "  }\n",
              "</style>\n",
              "\n",
              "  <script>\n",
              "    async function quickchart(key) {\n",
              "      const quickchartButtonEl =\n",
              "        document.querySelector('#' + key + ' button');\n",
              "      quickchartButtonEl.disabled = true;  // To prevent multiple clicks.\n",
              "      quickchartButtonEl.classList.add('colab-df-spinner');\n",
              "      try {\n",
              "        const charts = await google.colab.kernel.invokeFunction(\n",
              "            'suggestCharts', [key], {});\n",
              "      } catch (error) {\n",
              "        console.error('Error during call to suggestCharts:', error);\n",
              "      }\n",
              "      quickchartButtonEl.classList.remove('colab-df-spinner');\n",
              "      quickchartButtonEl.classList.add('colab-df-quickchart-complete');\n",
              "    }\n",
              "    (() => {\n",
              "      let quickchartButtonEl =\n",
              "        document.querySelector('#df-1fcb0046-13cd-4009-a926-11f2ce87b0d9 button');\n",
              "      quickchartButtonEl.style.display =\n",
              "        google.colab.kernel.accessAllowed ? 'block' : 'none';\n",
              "    })();\n",
              "  </script>\n",
              "</div>\n",
              "\n",
              "    </div>\n",
              "  </div>\n"
            ],
            "application/vnd.google.colaboratory.intrinsic+json": {
              "type": "dataframe",
              "variable_name": "data"
            }
          },
          "metadata": {},
          "execution_count": 22
        }
      ],
      "source": [
        "data.head()"
      ]
    },
    {
      "cell_type": "markdown",
      "metadata": {
        "id": "U8XMl26zl14h"
      },
      "source": [
        "## THERE IS A DICTIONARY FOR THE COLUMNS NAMES, THEREFORE DURING THE ANALYSIS THERE WILL BE EXPLANATIONS FOR BETTER UNDERSTANDING."
      ]
    },
    {
      "cell_type": "code",
      "execution_count": 23,
      "metadata": {
        "colab": {
          "base_uri": "https://localhost:8080/"
        },
        "id": "gStvFg4wmo30",
        "outputId": "e813567e-be3e-4b54-ad20-830434935da0"
      },
      "outputs": [
        {
          "output_type": "stream",
          "name": "stdout",
          "text": [
            "<class 'pandas.core.frame.DataFrame'>\n",
            "RangeIndex: 21922 entries, 0 to 21921\n",
            "Columns: 114 entries, caseid to helpblk\n",
            "dtypes: float64(15), int64(4), object(95)\n",
            "memory usage: 19.1+ MB\n"
          ]
        }
      ],
      "source": [
        "data.info()"
      ]
    },
    {
      "cell_type": "code",
      "execution_count": 24,
      "metadata": {
        "colab": {
          "base_uri": "https://localhost:8080/",
          "height": 320
        },
        "id": "CPcLvCKon6vG",
        "outputId": "11873e13-7066-4feb-aefc-a2a7b0c466e8"
      },
      "outputs": [
        {
          "output_type": "execute_result",
          "data": {
            "text/plain": [
              "             caseid          year           age  hispanic  uscitzn  \\\n",
              "count  21922.000000  21922.000000  21886.000000       0.0      0.0   \n",
              "mean   18904.046711   1985.356263     44.448506       NaN      NaN   \n",
              "std    10402.301147      7.652104     17.160418       NaN      NaN   \n",
              "min     1614.000000   1973.000000     18.000000       NaN      NaN   \n",
              "25%    10658.250000   1980.000000     30.000000       NaN      NaN   \n",
              "50%    18297.500000   1985.000000     41.000000       NaN      NaN   \n",
              "75%    27839.750000   1993.000000     57.000000       NaN      NaN   \n",
              "max    37135.000000   1998.000000     89.000000       NaN      NaN   \n",
              "\n",
              "               educ        paeduc        maeduc        speduc          sei  \\\n",
              "count  21922.000000  16066.000000  18584.000000  12440.000000  8564.000000   \n",
              "mean      12.495849     10.133947     10.372955     12.498794    47.527978   \n",
              "std        3.177404      4.350170      3.694183      3.114478    18.889827   \n",
              "min        0.000000      0.000000      0.000000      0.000000    17.100000   \n",
              "25%       11.000000      8.000000      8.000000     11.000000    32.400002   \n",
              "50%       12.000000     11.000000     12.000000     12.000000    38.799999   \n",
              "75%       14.000000     12.000000     12.000000     14.000000    63.500000   \n",
              "max       20.000000     20.000000     20.000000     20.000000    97.199997   \n",
              "\n",
              "               sibs        childs     agekdbrn      granborn  income06  \\\n",
              "count  21880.000000  21869.000000  2887.000000  16820.000000       0.0   \n",
              "mean       4.122212      1.990260    23.683755      1.130202       NaN   \n",
              "std        3.280851      1.842367     5.227011      1.583006       NaN   \n",
              "min        0.000000      0.000000    12.000000      0.000000       NaN   \n",
              "25%        2.000000      0.000000    20.000000      0.000000       NaN   \n",
              "50%        3.000000      2.000000    23.000000      0.000000       NaN   \n",
              "75%        6.000000      3.000000    27.000000      2.000000       NaN   \n",
              "max       68.000000      8.000000    48.000000      4.000000       NaN   \n",
              "\n",
              "              coninc         rank  getaid       tvhours  \n",
              "count   21922.000000  1404.000000     0.0  11023.000000  \n",
              "mean    42196.397181     5.217949     NaN      2.957815  \n",
              "std     31691.226031     1.866787     NaN      2.279694  \n",
              "min       535.000000     1.000000     NaN      0.000000  \n",
              "25%     18236.000000     4.000000     NaN      2.000000  \n",
              "50%     35471.000000     5.000000     NaN      2.000000  \n",
              "75%     57032.000000     6.000000     NaN      4.000000  \n",
              "max    180386.000000    10.000000     NaN     24.000000  "
            ],
            "text/html": [
              "\n",
              "  <div id=\"df-d0b1964c-c087-4333-a1b3-4edd820ea3ee\" class=\"colab-df-container\">\n",
              "    <div>\n",
              "<style scoped>\n",
              "    .dataframe tbody tr th:only-of-type {\n",
              "        vertical-align: middle;\n",
              "    }\n",
              "\n",
              "    .dataframe tbody tr th {\n",
              "        vertical-align: top;\n",
              "    }\n",
              "\n",
              "    .dataframe thead th {\n",
              "        text-align: right;\n",
              "    }\n",
              "</style>\n",
              "<table border=\"1\" class=\"dataframe\">\n",
              "  <thead>\n",
              "    <tr style=\"text-align: right;\">\n",
              "      <th></th>\n",
              "      <th>caseid</th>\n",
              "      <th>year</th>\n",
              "      <th>age</th>\n",
              "      <th>hispanic</th>\n",
              "      <th>uscitzn</th>\n",
              "      <th>educ</th>\n",
              "      <th>paeduc</th>\n",
              "      <th>maeduc</th>\n",
              "      <th>speduc</th>\n",
              "      <th>sei</th>\n",
              "      <th>sibs</th>\n",
              "      <th>childs</th>\n",
              "      <th>agekdbrn</th>\n",
              "      <th>granborn</th>\n",
              "      <th>income06</th>\n",
              "      <th>coninc</th>\n",
              "      <th>rank</th>\n",
              "      <th>getaid</th>\n",
              "      <th>tvhours</th>\n",
              "    </tr>\n",
              "  </thead>\n",
              "  <tbody>\n",
              "    <tr>\n",
              "      <th>count</th>\n",
              "      <td>21922.000000</td>\n",
              "      <td>21922.000000</td>\n",
              "      <td>21886.000000</td>\n",
              "      <td>0.0</td>\n",
              "      <td>0.0</td>\n",
              "      <td>21922.000000</td>\n",
              "      <td>16066.000000</td>\n",
              "      <td>18584.000000</td>\n",
              "      <td>12440.000000</td>\n",
              "      <td>8564.000000</td>\n",
              "      <td>21880.000000</td>\n",
              "      <td>21869.000000</td>\n",
              "      <td>2887.000000</td>\n",
              "      <td>16820.000000</td>\n",
              "      <td>0.0</td>\n",
              "      <td>21922.000000</td>\n",
              "      <td>1404.000000</td>\n",
              "      <td>0.0</td>\n",
              "      <td>11023.000000</td>\n",
              "    </tr>\n",
              "    <tr>\n",
              "      <th>mean</th>\n",
              "      <td>18904.046711</td>\n",
              "      <td>1985.356263</td>\n",
              "      <td>44.448506</td>\n",
              "      <td>NaN</td>\n",
              "      <td>NaN</td>\n",
              "      <td>12.495849</td>\n",
              "      <td>10.133947</td>\n",
              "      <td>10.372955</td>\n",
              "      <td>12.498794</td>\n",
              "      <td>47.527978</td>\n",
              "      <td>4.122212</td>\n",
              "      <td>1.990260</td>\n",
              "      <td>23.683755</td>\n",
              "      <td>1.130202</td>\n",
              "      <td>NaN</td>\n",
              "      <td>42196.397181</td>\n",
              "      <td>5.217949</td>\n",
              "      <td>NaN</td>\n",
              "      <td>2.957815</td>\n",
              "    </tr>\n",
              "    <tr>\n",
              "      <th>std</th>\n",
              "      <td>10402.301147</td>\n",
              "      <td>7.652104</td>\n",
              "      <td>17.160418</td>\n",
              "      <td>NaN</td>\n",
              "      <td>NaN</td>\n",
              "      <td>3.177404</td>\n",
              "      <td>4.350170</td>\n",
              "      <td>3.694183</td>\n",
              "      <td>3.114478</td>\n",
              "      <td>18.889827</td>\n",
              "      <td>3.280851</td>\n",
              "      <td>1.842367</td>\n",
              "      <td>5.227011</td>\n",
              "      <td>1.583006</td>\n",
              "      <td>NaN</td>\n",
              "      <td>31691.226031</td>\n",
              "      <td>1.866787</td>\n",
              "      <td>NaN</td>\n",
              "      <td>2.279694</td>\n",
              "    </tr>\n",
              "    <tr>\n",
              "      <th>min</th>\n",
              "      <td>1614.000000</td>\n",
              "      <td>1973.000000</td>\n",
              "      <td>18.000000</td>\n",
              "      <td>NaN</td>\n",
              "      <td>NaN</td>\n",
              "      <td>0.000000</td>\n",
              "      <td>0.000000</td>\n",
              "      <td>0.000000</td>\n",
              "      <td>0.000000</td>\n",
              "      <td>17.100000</td>\n",
              "      <td>0.000000</td>\n",
              "      <td>0.000000</td>\n",
              "      <td>12.000000</td>\n",
              "      <td>0.000000</td>\n",
              "      <td>NaN</td>\n",
              "      <td>535.000000</td>\n",
              "      <td>1.000000</td>\n",
              "      <td>NaN</td>\n",
              "      <td>0.000000</td>\n",
              "    </tr>\n",
              "    <tr>\n",
              "      <th>25%</th>\n",
              "      <td>10658.250000</td>\n",
              "      <td>1980.000000</td>\n",
              "      <td>30.000000</td>\n",
              "      <td>NaN</td>\n",
              "      <td>NaN</td>\n",
              "      <td>11.000000</td>\n",
              "      <td>8.000000</td>\n",
              "      <td>8.000000</td>\n",
              "      <td>11.000000</td>\n",
              "      <td>32.400002</td>\n",
              "      <td>2.000000</td>\n",
              "      <td>0.000000</td>\n",
              "      <td>20.000000</td>\n",
              "      <td>0.000000</td>\n",
              "      <td>NaN</td>\n",
              "      <td>18236.000000</td>\n",
              "      <td>4.000000</td>\n",
              "      <td>NaN</td>\n",
              "      <td>2.000000</td>\n",
              "    </tr>\n",
              "    <tr>\n",
              "      <th>50%</th>\n",
              "      <td>18297.500000</td>\n",
              "      <td>1985.000000</td>\n",
              "      <td>41.000000</td>\n",
              "      <td>NaN</td>\n",
              "      <td>NaN</td>\n",
              "      <td>12.000000</td>\n",
              "      <td>11.000000</td>\n",
              "      <td>12.000000</td>\n",
              "      <td>12.000000</td>\n",
              "      <td>38.799999</td>\n",
              "      <td>3.000000</td>\n",
              "      <td>2.000000</td>\n",
              "      <td>23.000000</td>\n",
              "      <td>0.000000</td>\n",
              "      <td>NaN</td>\n",
              "      <td>35471.000000</td>\n",
              "      <td>5.000000</td>\n",
              "      <td>NaN</td>\n",
              "      <td>2.000000</td>\n",
              "    </tr>\n",
              "    <tr>\n",
              "      <th>75%</th>\n",
              "      <td>27839.750000</td>\n",
              "      <td>1993.000000</td>\n",
              "      <td>57.000000</td>\n",
              "      <td>NaN</td>\n",
              "      <td>NaN</td>\n",
              "      <td>14.000000</td>\n",
              "      <td>12.000000</td>\n",
              "      <td>12.000000</td>\n",
              "      <td>14.000000</td>\n",
              "      <td>63.500000</td>\n",
              "      <td>6.000000</td>\n",
              "      <td>3.000000</td>\n",
              "      <td>27.000000</td>\n",
              "      <td>2.000000</td>\n",
              "      <td>NaN</td>\n",
              "      <td>57032.000000</td>\n",
              "      <td>6.000000</td>\n",
              "      <td>NaN</td>\n",
              "      <td>4.000000</td>\n",
              "    </tr>\n",
              "    <tr>\n",
              "      <th>max</th>\n",
              "      <td>37135.000000</td>\n",
              "      <td>1998.000000</td>\n",
              "      <td>89.000000</td>\n",
              "      <td>NaN</td>\n",
              "      <td>NaN</td>\n",
              "      <td>20.000000</td>\n",
              "      <td>20.000000</td>\n",
              "      <td>20.000000</td>\n",
              "      <td>20.000000</td>\n",
              "      <td>97.199997</td>\n",
              "      <td>68.000000</td>\n",
              "      <td>8.000000</td>\n",
              "      <td>48.000000</td>\n",
              "      <td>4.000000</td>\n",
              "      <td>NaN</td>\n",
              "      <td>180386.000000</td>\n",
              "      <td>10.000000</td>\n",
              "      <td>NaN</td>\n",
              "      <td>24.000000</td>\n",
              "    </tr>\n",
              "  </tbody>\n",
              "</table>\n",
              "</div>\n",
              "    <div class=\"colab-df-buttons\">\n",
              "\n",
              "  <div class=\"colab-df-container\">\n",
              "    <button class=\"colab-df-convert\" onclick=\"convertToInteractive('df-d0b1964c-c087-4333-a1b3-4edd820ea3ee')\"\n",
              "            title=\"Convert this dataframe to an interactive table.\"\n",
              "            style=\"display:none;\">\n",
              "\n",
              "  <svg xmlns=\"http://www.w3.org/2000/svg\" height=\"24px\" viewBox=\"0 -960 960 960\">\n",
              "    <path d=\"M120-120v-720h720v720H120Zm60-500h600v-160H180v160Zm220 220h160v-160H400v160Zm0 220h160v-160H400v160ZM180-400h160v-160H180v160Zm440 0h160v-160H620v160ZM180-180h160v-160H180v160Zm440 0h160v-160H620v160Z\"/>\n",
              "  </svg>\n",
              "    </button>\n",
              "\n",
              "  <style>\n",
              "    .colab-df-container {\n",
              "      display:flex;\n",
              "      gap: 12px;\n",
              "    }\n",
              "\n",
              "    .colab-df-convert {\n",
              "      background-color: #E8F0FE;\n",
              "      border: none;\n",
              "      border-radius: 50%;\n",
              "      cursor: pointer;\n",
              "      display: none;\n",
              "      fill: #1967D2;\n",
              "      height: 32px;\n",
              "      padding: 0 0 0 0;\n",
              "      width: 32px;\n",
              "    }\n",
              "\n",
              "    .colab-df-convert:hover {\n",
              "      background-color: #E2EBFA;\n",
              "      box-shadow: 0px 1px 2px rgba(60, 64, 67, 0.3), 0px 1px 3px 1px rgba(60, 64, 67, 0.15);\n",
              "      fill: #174EA6;\n",
              "    }\n",
              "\n",
              "    .colab-df-buttons div {\n",
              "      margin-bottom: 4px;\n",
              "    }\n",
              "\n",
              "    [theme=dark] .colab-df-convert {\n",
              "      background-color: #3B4455;\n",
              "      fill: #D2E3FC;\n",
              "    }\n",
              "\n",
              "    [theme=dark] .colab-df-convert:hover {\n",
              "      background-color: #434B5C;\n",
              "      box-shadow: 0px 1px 3px 1px rgba(0, 0, 0, 0.15);\n",
              "      filter: drop-shadow(0px 1px 2px rgba(0, 0, 0, 0.3));\n",
              "      fill: #FFFFFF;\n",
              "    }\n",
              "  </style>\n",
              "\n",
              "    <script>\n",
              "      const buttonEl =\n",
              "        document.querySelector('#df-d0b1964c-c087-4333-a1b3-4edd820ea3ee button.colab-df-convert');\n",
              "      buttonEl.style.display =\n",
              "        google.colab.kernel.accessAllowed ? 'block' : 'none';\n",
              "\n",
              "      async function convertToInteractive(key) {\n",
              "        const element = document.querySelector('#df-d0b1964c-c087-4333-a1b3-4edd820ea3ee');\n",
              "        const dataTable =\n",
              "          await google.colab.kernel.invokeFunction('convertToInteractive',\n",
              "                                                    [key], {});\n",
              "        if (!dataTable) return;\n",
              "\n",
              "        const docLinkHtml = 'Like what you see? Visit the ' +\n",
              "          '<a target=\"_blank\" href=https://colab.research.google.com/notebooks/data_table.ipynb>data table notebook</a>'\n",
              "          + ' to learn more about interactive tables.';\n",
              "        element.innerHTML = '';\n",
              "        dataTable['output_type'] = 'display_data';\n",
              "        await google.colab.output.renderOutput(dataTable, element);\n",
              "        const docLink = document.createElement('div');\n",
              "        docLink.innerHTML = docLinkHtml;\n",
              "        element.appendChild(docLink);\n",
              "      }\n",
              "    </script>\n",
              "  </div>\n",
              "\n",
              "\n",
              "<div id=\"df-f5a22ddd-502f-473b-84e4-89cc28e71e0d\">\n",
              "  <button class=\"colab-df-quickchart\" onclick=\"quickchart('df-f5a22ddd-502f-473b-84e4-89cc28e71e0d')\"\n",
              "            title=\"Suggest charts\"\n",
              "            style=\"display:none;\">\n",
              "\n",
              "<svg xmlns=\"http://www.w3.org/2000/svg\" height=\"24px\"viewBox=\"0 0 24 24\"\n",
              "     width=\"24px\">\n",
              "    <g>\n",
              "        <path d=\"M19 3H5c-1.1 0-2 .9-2 2v14c0 1.1.9 2 2 2h14c1.1 0 2-.9 2-2V5c0-1.1-.9-2-2-2zM9 17H7v-7h2v7zm4 0h-2V7h2v10zm4 0h-2v-4h2v4z\"/>\n",
              "    </g>\n",
              "</svg>\n",
              "  </button>\n",
              "\n",
              "<style>\n",
              "  .colab-df-quickchart {\n",
              "      --bg-color: #E8F0FE;\n",
              "      --fill-color: #1967D2;\n",
              "      --hover-bg-color: #E2EBFA;\n",
              "      --hover-fill-color: #174EA6;\n",
              "      --disabled-fill-color: #AAA;\n",
              "      --disabled-bg-color: #DDD;\n",
              "  }\n",
              "\n",
              "  [theme=dark] .colab-df-quickchart {\n",
              "      --bg-color: #3B4455;\n",
              "      --fill-color: #D2E3FC;\n",
              "      --hover-bg-color: #434B5C;\n",
              "      --hover-fill-color: #FFFFFF;\n",
              "      --disabled-bg-color: #3B4455;\n",
              "      --disabled-fill-color: #666;\n",
              "  }\n",
              "\n",
              "  .colab-df-quickchart {\n",
              "    background-color: var(--bg-color);\n",
              "    border: none;\n",
              "    border-radius: 50%;\n",
              "    cursor: pointer;\n",
              "    display: none;\n",
              "    fill: var(--fill-color);\n",
              "    height: 32px;\n",
              "    padding: 0;\n",
              "    width: 32px;\n",
              "  }\n",
              "\n",
              "  .colab-df-quickchart:hover {\n",
              "    background-color: var(--hover-bg-color);\n",
              "    box-shadow: 0 1px 2px rgba(60, 64, 67, 0.3), 0 1px 3px 1px rgba(60, 64, 67, 0.15);\n",
              "    fill: var(--button-hover-fill-color);\n",
              "  }\n",
              "\n",
              "  .colab-df-quickchart-complete:disabled,\n",
              "  .colab-df-quickchart-complete:disabled:hover {\n",
              "    background-color: var(--disabled-bg-color);\n",
              "    fill: var(--disabled-fill-color);\n",
              "    box-shadow: none;\n",
              "  }\n",
              "\n",
              "  .colab-df-spinner {\n",
              "    border: 2px solid var(--fill-color);\n",
              "    border-color: transparent;\n",
              "    border-bottom-color: var(--fill-color);\n",
              "    animation:\n",
              "      spin 1s steps(1) infinite;\n",
              "  }\n",
              "\n",
              "  @keyframes spin {\n",
              "    0% {\n",
              "      border-color: transparent;\n",
              "      border-bottom-color: var(--fill-color);\n",
              "      border-left-color: var(--fill-color);\n",
              "    }\n",
              "    20% {\n",
              "      border-color: transparent;\n",
              "      border-left-color: var(--fill-color);\n",
              "      border-top-color: var(--fill-color);\n",
              "    }\n",
              "    30% {\n",
              "      border-color: transparent;\n",
              "      border-left-color: var(--fill-color);\n",
              "      border-top-color: var(--fill-color);\n",
              "      border-right-color: var(--fill-color);\n",
              "    }\n",
              "    40% {\n",
              "      border-color: transparent;\n",
              "      border-right-color: var(--fill-color);\n",
              "      border-top-color: var(--fill-color);\n",
              "    }\n",
              "    60% {\n",
              "      border-color: transparent;\n",
              "      border-right-color: var(--fill-color);\n",
              "    }\n",
              "    80% {\n",
              "      border-color: transparent;\n",
              "      border-right-color: var(--fill-color);\n",
              "      border-bottom-color: var(--fill-color);\n",
              "    }\n",
              "    90% {\n",
              "      border-color: transparent;\n",
              "      border-bottom-color: var(--fill-color);\n",
              "    }\n",
              "  }\n",
              "</style>\n",
              "\n",
              "  <script>\n",
              "    async function quickchart(key) {\n",
              "      const quickchartButtonEl =\n",
              "        document.querySelector('#' + key + ' button');\n",
              "      quickchartButtonEl.disabled = true;  // To prevent multiple clicks.\n",
              "      quickchartButtonEl.classList.add('colab-df-spinner');\n",
              "      try {\n",
              "        const charts = await google.colab.kernel.invokeFunction(\n",
              "            'suggestCharts', [key], {});\n",
              "      } catch (error) {\n",
              "        console.error('Error during call to suggestCharts:', error);\n",
              "      }\n",
              "      quickchartButtonEl.classList.remove('colab-df-spinner');\n",
              "      quickchartButtonEl.classList.add('colab-df-quickchart-complete');\n",
              "    }\n",
              "    (() => {\n",
              "      let quickchartButtonEl =\n",
              "        document.querySelector('#df-f5a22ddd-502f-473b-84e4-89cc28e71e0d button');\n",
              "      quickchartButtonEl.style.display =\n",
              "        google.colab.kernel.accessAllowed ? 'block' : 'none';\n",
              "    })();\n",
              "  </script>\n",
              "</div>\n",
              "\n",
              "    </div>\n",
              "  </div>\n"
            ],
            "application/vnd.google.colaboratory.intrinsic+json": {
              "type": "dataframe",
              "summary": "{\n  \"name\": \"data\",\n  \"rows\": 8,\n  \"fields\": [\n    {\n      \"column\": \"caseid\",\n      \"properties\": {\n        \"dtype\": \"number\",\n        \"std\": 11073.927081478998,\n        \"min\": 1614.0,\n        \"max\": 37135.0,\n        \"num_unique_values\": 8,\n        \"samples\": [\n          18904.04671106651,\n          18297.5,\n          21922.0\n        ],\n        \"semantic_type\": \"\",\n        \"description\": \"\"\n      }\n    },\n    {\n      \"column\": \"year\",\n      \"properties\": {\n        \"dtype\": \"number\",\n        \"std\": 7181.882724203059,\n        \"min\": 7.652104304750921,\n        \"max\": 21922.0,\n        \"num_unique_values\": 8,\n        \"samples\": [\n          1985.3562631146792,\n          1985.0,\n          21922.0\n        ],\n        \"semantic_type\": \"\",\n        \"description\": \"\"\n      }\n    },\n    {\n      \"column\": \"age\",\n      \"properties\": {\n        \"dtype\": \"number\",\n        \"std\": 7722.923427016516,\n        \"min\": 17.160417799445625,\n        \"max\": 21886.0,\n        \"num_unique_values\": 8,\n        \"samples\": [\n          44.44850589417893,\n          41.0,\n          21886.0\n        ],\n        \"semantic_type\": \"\",\n        \"description\": \"\"\n      }\n    },\n    {\n      \"column\": \"hispanic\",\n      \"properties\": {\n        \"dtype\": \"number\",\n        \"std\": null,\n        \"min\": 0.0,\n        \"max\": 0.0,\n        \"num_unique_values\": 1,\n        \"samples\": [\n          0.0\n        ],\n        \"semantic_type\": \"\",\n        \"description\": \"\"\n      }\n    },\n    {\n      \"column\": \"uscitzn\",\n      \"properties\": {\n        \"dtype\": \"number\",\n        \"std\": null,\n        \"min\": 0.0,\n        \"max\": 0.0,\n        \"num_unique_values\": 1,\n        \"samples\": [\n          0.0\n        ],\n        \"semantic_type\": \"\",\n        \"description\": \"\"\n      }\n    },\n    {\n      \"column\": \"educ\",\n      \"properties\": {\n        \"dtype\": \"number\",\n        \"std\": 7746.92938990308,\n        \"min\": 0.0,\n        \"max\": 21922.0,\n        \"num_unique_values\": 8,\n        \"samples\": [\n          12.49584891889426\n        ],\n        \"semantic_type\": \"\",\n        \"description\": \"\"\n      }\n    },\n    {\n      \"column\": \"paeduc\",\n      \"properties\": {\n        \"dtype\": \"number\",\n        \"std\": 5676.884320787594,\n        \"min\": 0.0,\n        \"max\": 16066.0,\n        \"num_unique_values\": 8,\n        \"samples\": [\n          10.133947466699864\n        ],\n        \"semantic_type\": \"\",\n        \"description\": \"\"\n      }\n    },\n    {\n      \"column\": \"maeduc\",\n      \"properties\": {\n        \"dtype\": \"number\",\n        \"std\": 6567.102032211123,\n        \"min\": 0.0,\n        \"max\": 18584.0,\n        \"num_unique_values\": 7,\n        \"samples\": [\n          18584.0\n        ],\n        \"semantic_type\": \"\",\n        \"description\": \"\"\n      }\n    },\n    {\n      \"column\": \"speduc\",\n      \"properties\": {\n        \"dtype\": \"number\",\n        \"std\": 4394.541103244342,\n        \"min\": 0.0,\n        \"max\": 12440.0,\n        \"num_unique_values\": 8,\n        \"samples\": [\n          12.49879421221865\n        ],\n        \"semantic_type\": \"\",\n        \"description\": \"\"\n      }\n    },\n    {\n      \"column\": \"sei\",\n      \"properties\": {\n        \"dtype\": \"number\",\n        \"std\": 3012.0124233518,\n        \"min\": 17.1,\n        \"max\": 8564.0,\n        \"num_unique_values\": 8,\n        \"samples\": [\n          47.527977704694074\n        ],\n        \"semantic_type\": \"\",\n        \"description\": \"\"\n      }\n    },\n    {\n      \"column\": \"sibs\",\n      \"properties\": {\n        \"dtype\": \"number\",\n        \"std\": 7731.417748520107,\n        \"min\": 0.0,\n        \"max\": 21880.0,\n        \"num_unique_values\": 8,\n        \"samples\": [\n          4.122212065813528\n        ],\n        \"semantic_type\": \"\",\n        \"description\": \"\"\n      }\n    },\n    {\n      \"column\": \"childs\",\n      \"properties\": {\n        \"dtype\": \"number\",\n        \"std\": 7731.009328218179,\n        \"min\": 0.0,\n        \"max\": 21869.0,\n        \"num_unique_values\": 7,\n        \"samples\": [\n          21869.0\n        ],\n        \"semantic_type\": \"\",\n        \"description\": \"\"\n      }\n    },\n    {\n      \"column\": \"agekdbrn\",\n      \"properties\": {\n        \"dtype\": \"number\",\n        \"std\": 1012.7590809743514,\n        \"min\": 5.2270111170468265,\n        \"max\": 2887.0,\n        \"num_unique_values\": 8,\n        \"samples\": [\n          23.683754762729478\n        ],\n        \"semantic_type\": \"\",\n        \"description\": \"\"\n      }\n    },\n    {\n      \"column\": \"granborn\",\n      \"properties\": {\n        \"dtype\": \"number\",\n        \"std\": 5946.328101727599,\n        \"min\": 0.0,\n        \"max\": 16820.0,\n        \"num_unique_values\": 6,\n        \"samples\": [\n          16820.0\n        ],\n        \"semantic_type\": \"\",\n        \"description\": \"\"\n      }\n    },\n    {\n      \"column\": \"income06\",\n      \"properties\": {\n        \"dtype\": \"number\",\n        \"std\": null,\n        \"min\": 0.0,\n        \"max\": 0.0,\n        \"num_unique_values\": 1,\n        \"samples\": [\n          0.0\n        ],\n        \"semantic_type\": \"\",\n        \"description\": \"\"\n      }\n    },\n    {\n      \"column\": \"coninc\",\n      \"properties\": {\n        \"dtype\": \"number\",\n        \"std\": 55910.18690005591,\n        \"min\": 535.0,\n        \"max\": 180386.0,\n        \"num_unique_values\": 8,\n        \"samples\": [\n          42196.39718091415\n        ],\n        \"semantic_type\": \"\",\n        \"description\": \"\"\n      }\n    },\n    {\n      \"column\": \"rank\",\n      \"properties\": {\n        \"dtype\": \"number\",\n        \"std\": 494.7254858655548,\n        \"min\": 1.0,\n        \"max\": 1404.0,\n        \"num_unique_values\": 8,\n        \"samples\": [\n          5.217948717948718\n        ],\n        \"semantic_type\": \"\",\n        \"description\": \"\"\n      }\n    },\n    {\n      \"column\": \"getaid\",\n      \"properties\": {\n        \"dtype\": \"number\",\n        \"std\": null,\n        \"min\": 0.0,\n        \"max\": 0.0,\n        \"num_unique_values\": 1,\n        \"samples\": [\n          0.0\n        ],\n        \"semantic_type\": \"\",\n        \"description\": \"\"\n      }\n    },\n    {\n      \"column\": \"tvhours\",\n      \"properties\": {\n        \"dtype\": \"number\",\n        \"std\": 3895.3458717704066,\n        \"min\": 0.0,\n        \"max\": 11023.0,\n        \"num_unique_values\": 7,\n        \"samples\": [\n          11023.0\n        ],\n        \"semantic_type\": \"\",\n        \"description\": \"\"\n      }\n    }\n  ]\n}"
            }
          },
          "metadata": {},
          "execution_count": 24
        }
      ],
      "source": [
        "data.describe()"
      ]
    },
    {
      "cell_type": "markdown",
      "metadata": {
        "id": "S2qzWlErnJcS"
      },
      "source": [
        "## GENERAL DESCRIPTION OF THE DATA ABOVE. SOME DATA TYPES, EVEN THOUGH ARE NUMERICAL, THERE IS NO NEED TO MAKE ALL THE STATISTICAL DESCRIPTIONS, THEREFORE SOME STATISTICAL DESCRIPTIONS CAN BE IGNORED.\n",
        "\n",
        "### ONE EXAMPLE WOULD BE THE CASEID WICH IS ONLY FOR IDENTIFICATION PRUPOUSES DURING DATA EXPLORATION.\n",
        "\n",
        "### OTHER EXAMPLE WOULD BE THE YEAR, WICH CAN BE USED FOR KNOWING WICH YEARS HAVE MORE REGISTRIES, SO IN CASE WE NEED TO EXTRACT A INTERVAL FOR A HYPOTESIS, A DENSER SAMPLE WOULD MEAN A SMALLER INTERVAL."
      ]
    },
    {
      "cell_type": "code",
      "execution_count": 25,
      "metadata": {
        "colab": {
          "base_uri": "https://localhost:8080/",
          "height": 472
        },
        "id": "HOTukcTgqF-N",
        "outputId": "7a926c21-90eb-452e-d990-f0b29c1c6abf"
      },
      "outputs": [
        {
          "output_type": "display_data",
          "data": {
            "text/plain": [
              "<Figure size 640x480 with 1 Axes>"
            ],
            "image/png": "[encoded data removed]"
          },
          "metadata": {}
        }
      ],
      "source": [
        "data['educ'].hist()\n",
        "plt.xlabel('School years completed')\n",
        "plt.ylabel('Freq')\n",
        "plt.title('Distribution of completed school years.')\n",
        "plt.show()\n"
      ]
    },
    {
      "cell_type": "markdown",
      "metadata": {
        "id": "mowmE8rcqcB0"
      },
      "source": [
        "## THE 'EDUC' COLUMN COUNTS THE NUMBER OF COMPLETED SCHOOL YEARS DECLARED BY THE PERSON SURVEYED. THE HISTOGRAM IS SOMEWHAT NORMAL IN DISTRIBUTION.\n",
        "\n",
        "### IT CAN BE SEEN THAT THE MAYORITY OF THE SURVEYED PEOPLE DECLARES ABOUT 13 YEARS OF COMPLETED SCHOOL YEARS, WICH GOES ACCORDINGLY WITH THE MEAN ABOVE WICH IS 12.75. THIS IS NOT NECESARILY TRUE IN ALL DATASETS, GENERALLY SPEAKING, THE BIGGER THE STANDARD DEVIATION IS LESS PROBABLE THAT THE MODE IS SIMILAR THE MEAN, THIS IS NOT A RULE, IT CAN OCCUR THE CONTRARY, BUT THAT WOULD MEAN THERE IS A BIGGER PEAK THAN IN THIS CASE, WICH WOULD NEED A DIFFERENT ANALYSIS."
      ]
    },
    {
      "cell_type": "code",
      "execution_count": 26,
      "metadata": {
        "id": "_HJzy1IhxVcT"
      },
      "outputs": [],
      "source": [
        "import statsmodels.api as sm"
      ]
    },
    {
      "cell_type": "code",
      "execution_count": 27,
      "metadata": {
        "colab": {
          "base_uri": "https://localhost:8080/"
        },
        "id": "je4Q42ZXzAHD",
        "outputId": "97762b71-0273-49f3-b154-46ed4dd1daf8"
      },
      "outputs": [
        {
          "output_type": "stream",
          "name": "stdout",
          "text": [
            "Proportion of people owning at least one  gun at home: 0.4430708876927288\n"
          ]
        }
      ],
      "source": [
        "prop_guns = data['owngun'].value_counts(normalize=True)\n",
        "print(\"Proportion of people owning at least one  gun at home:\", prop_guns[1])"
      ]
    },
    {
      "cell_type": "code",
      "execution_count": 28,
      "metadata": {
        "colab": {
          "base_uri": "https://localhost:8080/",
          "height": 480
        },
        "id": "kbTkDcTczGGh",
        "outputId": "027d79ee-c12c-4ee0-a9ee-06b4c36e31f8"
      },
      "outputs": [
        {
          "output_type": "display_data",
          "data": {
            "text/plain": [
              "<Figure size 640x480 with 1 Axes>"
            ],
            "image/png": "[encoded data removed]"
          },
          "metadata": {}
        }
      ],
      "source": [
        "data['owngun'].value_counts().plot(kind='bar')\n",
        "plt.xlabel('Owns a gun (yes/no)')\n",
        "plt.ylabel('Freq')\n",
        "plt.title('Distribution of gun ownership at home.')\n",
        "plt.show()"
      ]
    },
    {
      "cell_type": "markdown",
      "metadata": {
        "id": "VaKATDVX1hpr"
      },
      "source": [
        "## FIRST IS VISUALIZED THE FREQUENCY OF PEOPLE SURVEYED WITH AT LEAST ONE GUN AT HOME."
      ]
    },
    {
      "cell_type": "code",
      "execution_count": 29,
      "metadata": {
        "colab": {
          "base_uri": "https://localhost:8080/"
        },
        "id": "Q2m3FxgJ3u9D",
        "outputId": "94b8ed43-f3d1-4bea-ae2b-8a1498f3edb4"
      },
      "outputs": [
        {
          "output_type": "stream",
          "name": "stdout",
          "text": [
            "Requirement already satisfied: statsmodels in /usr/local/lib/python3.10/dist-packages (0.14.2)\n",
            "Requirement already satisfied: numpy>=1.22.3 in /usr/local/lib/python3.10/dist-packages (from statsmodels) (1.25.2)\n",
            "Requirement already satisfied: scipy!=1.9.2,>=1.8 in /usr/local/lib/python3.10/dist-packages (from statsmodels) (1.11.4)\n",
            "Requirement already satisfied: pandas!=2.1.0,>=1.4 in /usr/local/lib/python3.10/dist-packages (from statsmodels) (2.0.3)\n",
            "Requirement already satisfied: patsy>=0.5.6 in /usr/local/lib/python3.10/dist-packages (from statsmodels) (0.5.6)\n",
            "Requirement already satisfied: packaging>=21.3 in /usr/local/lib/python3.10/dist-packages (from statsmodels) (24.0)\n",
            "Requirement already satisfied: python-dateutil>=2.8.2 in /usr/local/lib/python3.10/dist-packages (from pandas!=2.1.0,>=1.4->statsmodels) (2.8.2)\n",
            "Requirement already satisfied: pytz>=2020.1 in /usr/local/lib/python3.10/dist-packages (from pandas!=2.1.0,>=1.4->statsmodels) (2023.4)\n",
            "Requirement already satisfied: tzdata>=2022.1 in /usr/local/lib/python3.10/dist-packages (from pandas!=2.1.0,>=1.4->statsmodels) (2024.1)\n",
            "Requirement already satisfied: six in /usr/local/lib/python3.10/dist-packages (from patsy>=0.5.6->statsmodels) (1.16.0)\n"
          ]
        }
      ],
      "source": [
        "!pip install statsmodels"
      ]
    },
    {
      "cell_type": "code",
      "execution_count": 30,
      "metadata": {
        "id": "g6dtMJSm4fy5"
      },
      "outputs": [],
      "source": [
        "from scipy.stats import chi2_contingency"
      ]
    },
    {
      "cell_type": "markdown",
      "metadata": {
        "id": "l-U1JJUS_2J7"
      },
      "source": [
        "# NOW LETS PRETEND A DATA PROFESSIONAL IS ASKED TO DETERMINE IF THERE IS A RELATIONSHIP BETWEEN GUN OWNERSHIP AND EDUCATION, SO INSTEAD OF GUN REGULATION, THE GOVERMENT COULD MAKE EDUCATION BASED STRATEGIES TO IMPOROVE GUN CONTROL WITHOUT THE POLITICAL BACKLASH THAT COMES WITH A MORE DIRECT APROACH."
      ]
    },
    {
      "cell_type": "markdown",
      "metadata": {
        "id": "YtsGJ_xJ--xg"
      },
      "source": [
        "H0: THERE IS NO ASSOCIATION BETWEEN THE NUMBER OF YEARS OF EDUCATION COMPLETED (EDUC) AND GUN OWNERSHIP (OWNGUN).\n",
        "HA: THERE IS A INVERSE ASSOCIATION BETWEEN THE NUMBER OF YEARS OF EDUCATION COMPLETED AND GUN OWNERSHIP."
      ]
    },
    {
      "cell_type": "markdown",
      "metadata": {
        "id": "vtkltVLEDZuz"
      },
      "source": [
        "SINCE THERE IS A NUMERIC DATA COLUMN AND A CATEGORIC DATA COLUMN, CHI SQUARED APROACH IS USED TO DETERMINE IF THERE IS RELATION BETWEEN THOSE COLUMNS."
      ]
    },
    {
      "cell_type": "code",
      "execution_count": 31,
      "metadata": {
        "colab": {
          "base_uri": "https://localhost:8080/"
        },
        "id": "TNw8Mcg85Su0",
        "outputId": "186964d4-de9a-4af8-8ca8-1ae2b2e1b3ce"
      },
      "outputs": [
        {
          "output_type": "stream",
          "name": "stdout",
          "text": [
            "Chi-square test:\n",
            "Chi-square statistic: 249.0501033976401\n",
            "p-value: 1.7754065901655563e-41\n"
          ]
        }
      ],
      "source": [
        "contingency_table = pd.crosstab(data['educ'], data['owngun'])\n",
        "chi2, p_value_chi2, _, _ = chi2_contingency(contingency_table)\n",
        "print(\"Chi-square test:\")\n",
        "print(\"Chi-square statistic:\", chi2)\n",
        "print(\"p-value:\", p_value_chi2)"
      ]
    },
    {
      "cell_type": "markdown",
      "metadata": {
        "id": "UXsQ1J6-uBkE"
      },
      "source": [
        "SINCE THERE IS A COMPARISON OF A CATEGORIC DATATYPE AND A NUMERICAL DATATYPE, AN ANALYTICAL APROACH IS NEEDED, IF THE CASE WERE TWO NUMERICAL VARIABLES, A SIMPLE SCATTER GRAPH WOULD BE ENOUGH TO DETERMINE IF THERE IS A CORRELATION."
      ]
    },
    {
      "cell_type": "markdown",
      "metadata": {
        "id": "nJAULmvwBeJl"
      },
      "source": [
        "### WITH THAT CONSIDERABLY BIG CHI SQUARED STATISTIC AND A EXCEPTIONALLY LOW P VALUE, MUCH LOWER THAN 0.05 WICH WOULD BE STATISTICALLY SIGNIFICANT, THE H0 CAN BE REJECTED, THEREFORE THE EVIDENCE GOES IN FAVOR TO BE THE EDUCATION A GOOD MEASURE FOR GUN CONTROL, AND A STRATEGY CAN BEGIN TO BE DEVELOPED. IN  THIS CASE IT WOULD BE A GOOD IDEA TO GATHER MORE DATA TO MEASURE WICH APROACH WITH EDUCATION WOULD BE THE BEST TO MAXIMICE RESULTS WITH THE LEAST RESOURSES SPENT IN THE EXECUTION OF THE PROJECT."
      ]
    },
    {
      "cell_type": "code",
      "execution_count": 32,
      "metadata": {
        "id": "FrP88Y1VuFIT"
      },
      "outputs": [],
      "source": [
        "grouped_data = data.groupby('educ')['owngun'].value_counts(normalize=True)"
      ]
    },
    {
      "cell_type": "code",
      "execution_count": 33,
      "metadata": {
        "colab": {
          "base_uri": "https://localhost:8080/"
        },
        "id": "eTeJ_qedzT2H",
        "outputId": "83976106-bd9a-4a8d-c841-6c66825fa56b"
      },
      "outputs": [
        {
          "output_type": "stream",
          "name": "stdout",
          "text": [
            "educ  owngun\n",
            "0     Yes       50.0%\n",
            "1     Yes       56.2%\n",
            "2     Yes       45.5%\n",
            "3     Yes       40.6%\n",
            "4     Yes       47.4%\n",
            "5     Yes       43.0%\n",
            "6     Yes       43.8%\n",
            "7     Yes       45.4%\n",
            "8     Yes       45.4%\n",
            "9     Yes       44.1%\n",
            "10    Yes       42.3%\n",
            "11    Yes       45.8%\n",
            "12    Yes       50.4%\n",
            "13    Yes       42.5%\n",
            "14    Yes       43.9%\n",
            "15    Yes       39.3%\n",
            "16    Yes       36.6%\n",
            "17    Yes       37.8%\n",
            "18    Yes       35.2%\n",
            "19    Yes       33.7%\n",
            "20    Yes       32.3%\n",
            "Name: proportion, dtype: object\n"
          ]
        }
      ],
      "source": [
        "ownership_proportions = grouped_data[grouped_data.index.get_level_values(1) == 'Yes']\n",
        "ownership_proportions_str = (ownership_proportions * 100).apply(lambda x: f\"{x:.1f}%\")\n",
        "print(ownership_proportions_str)"
      ]
    },
    {
      "cell_type": "code",
      "execution_count": 34,
      "metadata": {
        "colab": {
          "base_uri": "https://localhost:8080/",
          "height": 472
        },
        "id": "Qjn3DJ7E1pU2",
        "outputId": "4ec32064-bee1-441a-eec7-d40c03aaa405"
      },
      "outputs": [
        {
          "output_type": "display_data",
          "data": {
            "text/plain": [
              "<Figure size 640x480 with 1 Axes>"
            ],
            "image/png": "[encoded data removed]"
          },
          "metadata": {}
        }
      ],
      "source": [
        "ownership_proportions.plot(kind='line')\n",
        "plt.xlabel('Years of school education')\n",
        "plt.ylabel('Proportion of gun ownership')\n",
        "plt.title('Distribution of gun ownership at home by years of education.')\n",
        "plt.show()"
      ]
    },
    {
      "cell_type": "markdown",
      "metadata": {
        "id": "15YihFSE4bWX"
      },
      "source": [
        "### IT CAN BE SEEN THAT FROM 13 YEARS OF EDUCATION, THE PROBABILITY FOR AN INDIVIDUAL TO OWN A GUN AT HOME DECREASES ABRUPTLY. THE PEAK IT´S RIGHT NEXT TO THE MEAN OF THE YEARS OF EDUCATION, SO IT´S IMPORTANT TO REVIEW WHY THIS FENOMENON HAPPENS."
      ]
    },
    {
      "cell_type": "code",
      "execution_count": 35,
      "metadata": {
        "colab": {
          "base_uri": "https://localhost:8080/"
        },
        "id": "jhpu3glQ55kV",
        "outputId": "98142eb2-db0d-4714-c548-a2e2482b87b1"
      },
      "outputs": [
        {
          "output_type": "stream",
          "name": "stdout",
          "text": [
            "0\n",
            "0\n"
          ]
        }
      ],
      "source": [
        "print(data['coninc'].isnull().sum())\n",
        "print(data['educ'].isnull().sum())"
      ]
    },
    {
      "cell_type": "code",
      "execution_count": 36,
      "metadata": {
        "colab": {
          "base_uri": "https://localhost:8080/",
          "height": 472
        },
        "id": "GOKf5nrb7N19",
        "outputId": "86ebae9c-d50e-46d4-b342-9884e2cb85cb"
      },
      "outputs": [
        {
          "output_type": "display_data",
          "data": {
            "text/plain": [
              "<Figure size 640x480 with 1 Axes>"
            ],
            "image/png": "[encoded data removed]"
          },
          "metadata": {}
        }
      ],
      "source": [
        "mean_coninc_by_educ = data.groupby('educ')['coninc'].mean()\n",
        "mean_coninc_by_educ.plot(kind='line', marker='o')\n",
        "plt.xlabel('Years of school education')\n",
        "plt.ylabel('Mean Constant Income')\n",
        "plt.title('Mean Constant Income by Education Level')\n",
        "plt.grid(True)\n",
        "plt.show()"
      ]
    },
    {
      "cell_type": "markdown",
      "metadata": {
        "id": "Gh5Y6kdr8WWv"
      },
      "source": [
        "## AS EXPECTED THERE IS A POSITIVE LINEAR RELATIONSHIP BETWEEN EDUCATION AND INCOME, THE HYPOTESIS WOULD BE THAT UNDER 10 YEARS OF EDUCATION (WHERE THE SLOPE OF THE GRAPH 'Distribution of gun ownership at home by years of education.' CHANGES ABRUPTLY) THE LOW INCOME IS THE MAIN REASON THE GUN OWNERSHIP IS NOT HIGHER, AND OVER 15 YEARS OF EDUCATION, THE EDUCATION ITSELF IS THE REASON PEOPLE ARE NOT INTERESTED IN OWNING GUNS."
      ]
    },
    {
      "cell_type": "code",
      "execution_count": 37,
      "metadata": {
        "colab": {
          "base_uri": "https://localhost:8080/"
        },
        "id": "O2b4x8hv_BPZ",
        "outputId": "e2272112-b232-4705-d3a9-6a75f7407a02"
      },
      "outputs": [
        {
          "output_type": "stream",
          "name": "stdout",
          "text": [
            "Gun ownership proportion (<=10 years): 0.44161073825503355\n",
            "Gun ownership proportion (10-15 years): 0.4254207777132908\n",
            "Average income (<=10 years): $23848.89\n",
            "Average income (10-15 years): $41617.07\n"
          ]
        }
      ],
      "source": [
        "group_1_data = data[data['educ'] <= 10]\n",
        "group_2_data = data[(data['educ'] == 13)]\n",
        "\n",
        "group_1_ownership_prop = (group_1_data['owngun'] == 'Yes').mean()\n",
        "group_2_ownership_prop = (group_2_data['owngun'] == 'Yes').mean()\n",
        "\n",
        "group_1_avg_income = group_1_data['coninc'].mean()\n",
        "group_2_avg_income = group_2_data['coninc'].mean()\n",
        "\n",
        "print(f\"Gun ownership proportion (<=10 years): {group_1_ownership_prop}\")\n",
        "print(f\"Gun ownership proportion (10-15 years): {group_2_ownership_prop}\")\n",
        "print(f\"Average income (<=10 years): ${group_1_avg_income:.2f}\")\n",
        "print(f\"Average income (10-15 years): ${group_2_avg_income:.2f}\")"
      ]
    },
    {
      "cell_type": "markdown",
      "metadata": {
        "id": "Vgg8av-_BCG2"
      },
      "source": [
        "# H0: THERE IS NO DIFFERENCE IN GUN OWNERSHIP PROPORTION BETWEEN GROUPS.\n",
        "# HA: THERE IS A DIFFERENCE IN GUN OWNERSHIP PROPORTION BETWEEN GROUPS."
      ]
    },
    {
      "cell_type": "code",
      "execution_count": 38,
      "metadata": {
        "colab": {
          "base_uri": "https://localhost:8080/"
        },
        "id": "FKlQh7u4_9Pc",
        "outputId": "7ba2c3f8-01fb-4d4f-d97e-8a7730ce259b"
      },
      "outputs": [
        {
          "output_type": "stream",
          "name": "stdout",
          "text": [
            "t-statistic: 64.1218\n",
            "p-value: 0.0000\n",
            "There is a significant difference in gun ownership proportion between groups.\n"
          ]
        }
      ],
      "source": [
        "t_statistic, p_value = stats.ttest_ind_from_stats(\n",
        "    mean1=group_1_ownership_prop,\n",
        "    std1=np.sqrt(group_1_ownership_prop * (1 - group_1_ownership_prop) / len(group_1_data)),\n",
        "    nobs1=len(group_1_data),\n",
        "    mean2=group_2_ownership_prop,\n",
        "    std2=np.sqrt(group_2_ownership_prop * (1 - group_2_ownership_prop) / len(group_2_data)),\n",
        "    nobs2=len(group_2_data),\n",
        ")\n",
        "\n",
        "print(f\"t-statistic: {t_statistic:.4f}\")\n",
        "print(f\"p-value: {p_value:.4f}\")\n",
        "\n",
        "alpha = 0.05\n",
        "if p_value < alpha:\n",
        "    print(\"There is a significant difference in gun ownership proportion between groups.\")\n",
        "else:\n",
        "    print(\"There is no significant difference in gun ownership proportion between groups.\")\n"
      ]
    },
    {
      "cell_type": "markdown",
      "metadata": {
        "id": "VDevPa4lEAYh"
      },
      "source": [
        "### WHILE THE ANALYSIS CANNOT DEFINITIVELY ESTABLISH CAUSATION, THE RESULTS SUGGEST A POSSIBLE ASSOCIATION BETWEEN EDUCATION LEVEL, INCOME, AND GUN OWNERSHIP. INDIVIDUALS WITH LESS THAN 13 YEARS OF EDUCATION TEND TO HAVE LOWER INCOMES AND LOWER GUN OWNERSHIP RATES. THIS MIGHT IMPLY A LINK BETWEEN INCOME AND GUN OWNERSHIP IN THIS GROUP. CONVERSELY, FOR INDIVIDUALS WITH MORE THAN 15 YEARS OF EDUCATION, GUN OWNERSHIP SEEMS LESS PREVALENT, POTENTIALLY SUGGESTING THAT EDUCATION ITSELF MAY BE A FACTOR INFLUENCING GUN CONTROL ATTITUDES, INDEPENDENT OF INCOME. THESE INSIGHTS SUPPORT FURTHER INVESTIGATION INTO THE RELATIONSHIP BETWEEN SOCIOECONOMIC FACTORS AND GUN OWNERSHIP. ADDITIONALLY, THEY LEND SUPPORT TO THE IDEA OF INVESTING IN INITIATIVES THAT INCREASE EDUCATIONAL ATTAINMENT, AS THIS MAY HAVE BROADER SOCIETAL BENEFITS BEYOND JUST BETTER INCOME."
      ]
    }
  ],
  "metadata": {
    "colab": {
      "provenance": [],
      "authorship_tag": "ABX9TyPEhjos4ErnXPfny7PE/3HE"
    },
    "kernelspec": {
      "display_name": "Python 3",
      "name": "python3"
    },
    "language_info": {
      "name": "python"
    }
  },
  "nbformat": 4,
  "nbformat_minor": 0
}
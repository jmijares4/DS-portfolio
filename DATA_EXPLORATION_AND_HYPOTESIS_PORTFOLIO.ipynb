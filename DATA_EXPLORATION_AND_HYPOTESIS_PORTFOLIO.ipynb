{
  "cells": [
    {
      "cell_type": "code",
      "execution_count": 1,
      "metadata": {
        "id": "aspsJNzvkS91"
      },
      "outputs": [],
      "source": [
        "import pandas as pd\n",
        "import csv\n",
        "import matplotlib.pyplot as plt\n",
        "import numpy as np\n",
        "import scipy.stats as stats"
      ]
    },
    {
      "cell_type": "code",
      "execution_count": 4,
      "metadata": {
        "id": "mr2Q3xJQkd9v"
      },
      "outputs": [],
      "source": [
        "data = pd.read_csv('gss.csv', low_memory=False)"
      ]
    },
    {
      "cell_type": "markdown",
      "metadata": {
        "id": "J9SZRQdMlHMC"
      },
      "source": [
        "## FRIST IS NEEDED TO EXAMINE DE DATA TO KNOW THE NAME OF THE COLUMNS, AS IS STATED ABOVE THAT THERE ARE SEVERAL COLUMNS WITH DIFFERENT DATA TYPES."
      ]
    },
    {
      "cell_type": "markdown",
      "metadata": {
        "id": "Iz95I19KmInq"
      },
      "source": [
        "THE DATA IS TAKEN FROM THE \"GENERAL SOCIAL SURVEY\" FROM THE UNIVERSITY OF CHICAGO FROM 1972 TO 2012."
      ]
    },
    {
      "cell_type": "code",
      "execution_count": null,
      "metadata": {
        "colab": {
          "base_uri": "https://localhost:8080/",
          "height": 273
        },
        "id": "wR7HMcFRlAPE",
        "outputId": "6bbf1fc3-7043-4203-979c-bcfb77a3d1e9"
      },
      "outputs": [
        {
          "data": {
            "application/vnd.google.colaboratory.intrinsic+json": {
              "type": "dataframe",
              "variable_name": "data"
            },
            "text/html": [
              "\n",
              "  <div id=\"df-be6c04d3-32f9-48fd-969e-d4d3825bf7bb\" class=\"colab-df-container\">\n",
              "    <div>\n",
              "<style scoped>\n",
              "    .dataframe tbody tr th:only-of-type {\n",
              "        vertical-align: middle;\n",
              "    }\n",
              "\n",
              "    .dataframe tbody tr th {\n",
              "        vertical-align: top;\n",
              "    }\n",
              "\n",
              "    .dataframe thead th {\n",
              "        text-align: right;\n",
              "    }\n",
              "</style>\n",
              "<table border=\"1\" class=\"dataframe\">\n",
              "  <thead>\n",
              "    <tr style=\"text-align: right;\">\n",
              "      <th></th>\n",
              "      <th>caseid</th>\n",
              "      <th>year</th>\n",
              "      <th>age</th>\n",
              "      <th>sex</th>\n",
              "      <th>race</th>\n",
              "      <th>hispanic</th>\n",
              "      <th>uscitzn</th>\n",
              "      <th>educ</th>\n",
              "      <th>paeduc</th>\n",
              "      <th>maeduc</th>\n",
              "      <th>...</th>\n",
              "      <th>news</th>\n",
              "      <th>tvhours</th>\n",
              "      <th>racdif1</th>\n",
              "      <th>racdif2</th>\n",
              "      <th>racdif3</th>\n",
              "      <th>racdif4</th>\n",
              "      <th>helppoor</th>\n",
              "      <th>helpnot</th>\n",
              "      <th>helpsick</th>\n",
              "      <th>helpblk</th>\n",
              "    </tr>\n",
              "  </thead>\n",
              "  <tbody>\n",
              "    <tr>\n",
              "      <th>0</th>\n",
              "      <td>1</td>\n",
              "      <td>1972</td>\n",
              "      <td>23.0</td>\n",
              "      <td>Female</td>\n",
              "      <td>White</td>\n",
              "      <td>NaN</td>\n",
              "      <td>NaN</td>\n",
              "      <td>16.0</td>\n",
              "      <td>10.0</td>\n",
              "      <td>NaN</td>\n",
              "      <td>...</td>\n",
              "      <td>Everyday</td>\n",
              "      <td>NaN</td>\n",
              "      <td>NaN</td>\n",
              "      <td>NaN</td>\n",
              "      <td>NaN</td>\n",
              "      <td>NaN</td>\n",
              "      <td>NaN</td>\n",
              "      <td>NaN</td>\n",
              "      <td>NaN</td>\n",
              "      <td>NaN</td>\n",
              "    </tr>\n",
              "    <tr>\n",
              "      <th>1</th>\n",
              "      <td>2</td>\n",
              "      <td>1972</td>\n",
              "      <td>70.0</td>\n",
              "      <td>Male</td>\n",
              "      <td>White</td>\n",
              "      <td>NaN</td>\n",
              "      <td>NaN</td>\n",
              "      <td>10.0</td>\n",
              "      <td>8.0</td>\n",
              "      <td>8.0</td>\n",
              "      <td>...</td>\n",
              "      <td>Everyday</td>\n",
              "      <td>NaN</td>\n",
              "      <td>NaN</td>\n",
              "      <td>NaN</td>\n",
              "      <td>NaN</td>\n",
              "      <td>NaN</td>\n",
              "      <td>NaN</td>\n",
              "      <td>NaN</td>\n",
              "      <td>NaN</td>\n",
              "      <td>NaN</td>\n",
              "    </tr>\n",
              "    <tr>\n",
              "      <th>2</th>\n",
              "      <td>3</td>\n",
              "      <td>1972</td>\n",
              "      <td>48.0</td>\n",
              "      <td>Female</td>\n",
              "      <td>White</td>\n",
              "      <td>NaN</td>\n",
              "      <td>NaN</td>\n",
              "      <td>12.0</td>\n",
              "      <td>8.0</td>\n",
              "      <td>8.0</td>\n",
              "      <td>...</td>\n",
              "      <td>Everyday</td>\n",
              "      <td>NaN</td>\n",
              "      <td>NaN</td>\n",
              "      <td>NaN</td>\n",
              "      <td>NaN</td>\n",
              "      <td>NaN</td>\n",
              "      <td>NaN</td>\n",
              "      <td>NaN</td>\n",
              "      <td>NaN</td>\n",
              "      <td>NaN</td>\n",
              "    </tr>\n",
              "    <tr>\n",
              "      <th>3</th>\n",
              "      <td>4</td>\n",
              "      <td>1972</td>\n",
              "      <td>27.0</td>\n",
              "      <td>Female</td>\n",
              "      <td>White</td>\n",
              "      <td>NaN</td>\n",
              "      <td>NaN</td>\n",
              "      <td>17.0</td>\n",
              "      <td>16.0</td>\n",
              "      <td>12.0</td>\n",
              "      <td>...</td>\n",
              "      <td>Once A Week</td>\n",
              "      <td>NaN</td>\n",
              "      <td>NaN</td>\n",
              "      <td>NaN</td>\n",
              "      <td>NaN</td>\n",
              "      <td>NaN</td>\n",
              "      <td>NaN</td>\n",
              "      <td>NaN</td>\n",
              "      <td>NaN</td>\n",
              "      <td>NaN</td>\n",
              "    </tr>\n",
              "    <tr>\n",
              "      <th>4</th>\n",
              "      <td>5</td>\n",
              "      <td>1972</td>\n",
              "      <td>61.0</td>\n",
              "      <td>Female</td>\n",
              "      <td>White</td>\n",
              "      <td>NaN</td>\n",
              "      <td>NaN</td>\n",
              "      <td>12.0</td>\n",
              "      <td>8.0</td>\n",
              "      <td>8.0</td>\n",
              "      <td>...</td>\n",
              "      <td>Everyday</td>\n",
              "      <td>NaN</td>\n",
              "      <td>NaN</td>\n",
              "      <td>NaN</td>\n",
              "      <td>NaN</td>\n",
              "      <td>NaN</td>\n",
              "      <td>NaN</td>\n",
              "      <td>NaN</td>\n",
              "      <td>NaN</td>\n",
              "      <td>NaN</td>\n",
              "    </tr>\n",
              "  </tbody>\n",
              "</table>\n",
              "<p>5 rows × 114 columns</p>\n",
              "</div>\n",
              "    <div class=\"colab-df-buttons\">\n",
              "\n",
              "  <div class=\"colab-df-container\">\n",
              "    <button class=\"colab-df-convert\" onclick=\"convertToInteractive('df-be6c04d3-32f9-48fd-969e-d4d3825bf7bb')\"\n",
              "            title=\"Convert this dataframe to an interactive table.\"\n",
              "            style=\"display:none;\">\n",
              "\n",
              "  <svg xmlns=\"http://www.w3.org/2000/svg\" height=\"24px\" viewBox=\"0 -960 960 960\">\n",
              "    <path d=\"M120-120v-720h720v720H120Zm60-500h600v-160H180v160Zm220 220h160v-160H400v160Zm0 220h160v-160H400v160ZM180-400h160v-160H180v160Zm440 0h160v-160H620v160ZM180-180h160v-160H180v160Zm440 0h160v-160H620v160Z\"/>\n",
              "  </svg>\n",
              "    </button>\n",
              "\n",
              "  <style>\n",
              "    .colab-df-container {\n",
              "      display:flex;\n",
              "      gap: 12px;\n",
              "    }\n",
              "\n",
              "    .colab-df-convert {\n",
              "      background-color: #E8F0FE;\n",
              "      border: none;\n",
              "      border-radius: 50%;\n",
              "      cursor: pointer;\n",
              "      display: none;\n",
              "      fill: #1967D2;\n",
              "      height: 32px;\n",
              "      padding: 0 0 0 0;\n",
              "      width: 32px;\n",
              "    }\n",
              "\n",
              "    .colab-df-convert:hover {\n",
              "      background-color: #E2EBFA;\n",
              "      box-shadow: 0px 1px 2px rgba(60, 64, 67, 0.3), 0px 1px 3px 1px rgba(60, 64, 67, 0.15);\n",
              "      fill: #174EA6;\n",
              "    }\n",
              "\n",
              "    .colab-df-buttons div {\n",
              "      margin-bottom: 4px;\n",
              "    }\n",
              "\n",
              "    [theme=dark] .colab-df-convert {\n",
              "      background-color: #3B4455;\n",
              "      fill: #D2E3FC;\n",
              "    }\n",
              "\n",
              "    [theme=dark] .colab-df-convert:hover {\n",
              "      background-color: #434B5C;\n",
              "      box-shadow: 0px 1px 3px 1px rgba(0, 0, 0, 0.15);\n",
              "      filter: drop-shadow(0px 1px 2px rgba(0, 0, 0, 0.3));\n",
              "      fill: #FFFFFF;\n",
              "    }\n",
              "  </style>\n",
              "\n",
              "    <script>\n",
              "      const buttonEl =\n",
              "        document.querySelector('#df-be6c04d3-32f9-48fd-969e-d4d3825bf7bb button.colab-df-convert');\n",
              "      buttonEl.style.display =\n",
              "        google.colab.kernel.accessAllowed ? 'block' : 'none';\n",
              "\n",
              "      async function convertToInteractive(key) {\n",
              "        const element = document.querySelector('#df-be6c04d3-32f9-48fd-969e-d4d3825bf7bb');\n",
              "        const dataTable =\n",
              "          await google.colab.kernel.invokeFunction('convertToInteractive',\n",
              "                                                    [key], {});\n",
              "        if (!dataTable) return;\n",
              "\n",
              "        const docLinkHtml = 'Like what you see? Visit the ' +\n",
              "          '<a target=\"_blank\" href=https://colab.research.google.com/notebooks/data_table.ipynb>data table notebook</a>'\n",
              "          + ' to learn more about interactive tables.';\n",
              "        element.innerHTML = '';\n",
              "        dataTable['output_type'] = 'display_data';\n",
              "        await google.colab.output.renderOutput(dataTable, element);\n",
              "        const docLink = document.createElement('div');\n",
              "        docLink.innerHTML = docLinkHtml;\n",
              "        element.appendChild(docLink);\n",
              "      }\n",
              "    </script>\n",
              "  </div>\n",
              "\n",
              "\n",
              "<div id=\"df-7081806e-0ff3-4c34-b97e-08f81b5d592e\">\n",
              "  <button class=\"colab-df-quickchart\" onclick=\"quickchart('df-7081806e-0ff3-4c34-b97e-08f81b5d592e')\"\n",
              "            title=\"Suggest charts\"\n",
              "            style=\"display:none;\">\n",
              "\n",
              "<svg xmlns=\"http://www.w3.org/2000/svg\" height=\"24px\"viewBox=\"0 0 24 24\"\n",
              "     width=\"24px\">\n",
              "    <g>\n",
              "        <path d=\"M19 3H5c-1.1 0-2 .9-2 2v14c0 1.1.9 2 2 2h14c1.1 0 2-.9 2-2V5c0-1.1-.9-2-2-2zM9 17H7v-7h2v7zm4 0h-2V7h2v10zm4 0h-2v-4h2v4z\"/>\n",
              "    </g>\n",
              "</svg>\n",
              "  </button>\n",
              "\n",
              "<style>\n",
              "  .colab-df-quickchart {\n",
              "      --bg-color: #E8F0FE;\n",
              "      --fill-color: #1967D2;\n",
              "      --hover-bg-color: #E2EBFA;\n",
              "      --hover-fill-color: #174EA6;\n",
              "      --disabled-fill-color: #AAA;\n",
              "      --disabled-bg-color: #DDD;\n",
              "  }\n",
              "\n",
              "  [theme=dark] .colab-df-quickchart {\n",
              "      --bg-color: #3B4455;\n",
              "      --fill-color: #D2E3FC;\n",
              "      --hover-bg-color: #434B5C;\n",
              "      --hover-fill-color: #FFFFFF;\n",
              "      --disabled-bg-color: #3B4455;\n",
              "      --disabled-fill-color: #666;\n",
              "  }\n",
              "\n",
              "  .colab-df-quickchart {\n",
              "    background-color: var(--bg-color);\n",
              "    border: none;\n",
              "    border-radius: 50%;\n",
              "    cursor: pointer;\n",
              "    display: none;\n",
              "    fill: var(--fill-color);\n",
              "    height: 32px;\n",
              "    padding: 0;\n",
              "    width: 32px;\n",
              "  }\n",
              "\n",
              "  .colab-df-quickchart:hover {\n",
              "    background-color: var(--hover-bg-color);\n",
              "    box-shadow: 0 1px 2px rgba(60, 64, 67, 0.3), 0 1px 3px 1px rgba(60, 64, 67, 0.15);\n",
              "    fill: var(--button-hover-fill-color);\n",
              "  }\n",
              "\n",
              "  .colab-df-quickchart-complete:disabled,\n",
              "  .colab-df-quickchart-complete:disabled:hover {\n",
              "    background-color: var(--disabled-bg-color);\n",
              "    fill: var(--disabled-fill-color);\n",
              "    box-shadow: none;\n",
              "  }\n",
              "\n",
              "  .colab-df-spinner {\n",
              "    border: 2px solid var(--fill-color);\n",
              "    border-color: transparent;\n",
              "    border-bottom-color: var(--fill-color);\n",
              "    animation:\n",
              "      spin 1s steps(1) infinite;\n",
              "  }\n",
              "\n",
              "  @keyframes spin {\n",
              "    0% {\n",
              "      border-color: transparent;\n",
              "      border-bottom-color: var(--fill-color);\n",
              "      border-left-color: var(--fill-color);\n",
              "    }\n",
              "    20% {\n",
              "      border-color: transparent;\n",
              "      border-left-color: var(--fill-color);\n",
              "      border-top-color: var(--fill-color);\n",
              "    }\n",
              "    30% {\n",
              "      border-color: transparent;\n",
              "      border-left-color: var(--fill-color);\n",
              "      border-top-color: var(--fill-color);\n",
              "      border-right-color: var(--fill-color);\n",
              "    }\n",
              "    40% {\n",
              "      border-color: transparent;\n",
              "      border-right-color: var(--fill-color);\n",
              "      border-top-color: var(--fill-color);\n",
              "    }\n",
              "    60% {\n",
              "      border-color: transparent;\n",
              "      border-right-color: var(--fill-color);\n",
              "    }\n",
              "    80% {\n",
              "      border-color: transparent;\n",
              "      border-right-color: var(--fill-color);\n",
              "      border-bottom-color: var(--fill-color);\n",
              "    }\n",
              "    90% {\n",
              "      border-color: transparent;\n",
              "      border-bottom-color: var(--fill-color);\n",
              "    }\n",
              "  }\n",
              "</style>\n",
              "\n",
              "  <script>\n",
              "    async function quickchart(key) {\n",
              "      const quickchartButtonEl =\n",
              "        document.querySelector('#' + key + ' button');\n",
              "      quickchartButtonEl.disabled = true;  // To prevent multiple clicks.\n",
              "      quickchartButtonEl.classList.add('colab-df-spinner');\n",
              "      try {\n",
              "        const charts = await google.colab.kernel.invokeFunction(\n",
              "            'suggestCharts', [key], {});\n",
              "      } catch (error) {\n",
              "        console.error('Error during call to suggestCharts:', error);\n",
              "      }\n",
              "      quickchartButtonEl.classList.remove('colab-df-spinner');\n",
              "      quickchartButtonEl.classList.add('colab-df-quickchart-complete');\n",
              "    }\n",
              "    (() => {\n",
              "      let quickchartButtonEl =\n",
              "        document.querySelector('#df-7081806e-0ff3-4c34-b97e-08f81b5d592e button');\n",
              "      quickchartButtonEl.style.display =\n",
              "        google.colab.kernel.accessAllowed ? 'block' : 'none';\n",
              "    })();\n",
              "  </script>\n",
              "</div>\n",
              "\n",
              "    </div>\n",
              "  </div>\n"
            ],
            "text/plain": [
              "   caseid  year   age     sex   race hispanic uscitzn  educ  paeduc  maeduc  \\\n",
              "0       1  1972  23.0  Female  White      NaN     NaN  16.0    10.0     NaN   \n",
              "1       2  1972  70.0    Male  White      NaN     NaN  10.0     8.0     8.0   \n",
              "2       3  1972  48.0  Female  White      NaN     NaN  12.0     8.0     8.0   \n",
              "3       4  1972  27.0  Female  White      NaN     NaN  17.0    16.0    12.0   \n",
              "4       5  1972  61.0  Female  White      NaN     NaN  12.0     8.0     8.0   \n",
              "\n",
              "   ...         news tvhours racdif1  racdif2 racdif3 racdif4 helppoor helpnot  \\\n",
              "0  ...     Everyday     NaN     NaN      NaN     NaN     NaN      NaN     NaN   \n",
              "1  ...     Everyday     NaN     NaN      NaN     NaN     NaN      NaN     NaN   \n",
              "2  ...     Everyday     NaN     NaN      NaN     NaN     NaN      NaN     NaN   \n",
              "3  ...  Once A Week     NaN     NaN      NaN     NaN     NaN      NaN     NaN   \n",
              "4  ...     Everyday     NaN     NaN      NaN     NaN     NaN      NaN     NaN   \n",
              "\n",
              "   helpsick  helpblk  \n",
              "0       NaN      NaN  \n",
              "1       NaN      NaN  \n",
              "2       NaN      NaN  \n",
              "3       NaN      NaN  \n",
              "4       NaN      NaN  \n",
              "\n",
              "[5 rows x 114 columns]"
            ]
          },
          "execution_count": 129,
          "metadata": {},
          "output_type": "execute_result"
        }
      ],
      "source": [
        "data.head()"
      ]
    },
    {
      "cell_type": "markdown",
      "metadata": {
        "id": "U8XMl26zl14h"
      },
      "source": [
        "## THERE IS A DICTIONARY FOR THE COLUMNS NAMES, THEREFORE DURING THE ANALYSIS THERE WILL BE EXPLANATIONS FOR BETTER UNDERSTANDING."
      ]
    },
    {
      "cell_type": "code",
      "execution_count": null,
      "metadata": {
        "colab": {
          "base_uri": "https://localhost:8080/"
        },
        "id": "gStvFg4wmo30",
        "outputId": "9fff98de-8122-425d-ad3b-e9f4b1200848"
      },
      "outputs": [
        {
          "name": "stdout",
          "output_type": "stream",
          "text": [
            "<class 'pandas.core.frame.DataFrame'>\n",
            "RangeIndex: 57061 entries, 0 to 57060\n",
            "Columns: 114 entries, caseid to helpblk\n",
            "dtypes: float64(13), int64(2), object(99)\n",
            "memory usage: 49.6+ MB\n"
          ]
        }
      ],
      "source": [
        "data.info()"
      ]
    },
    {
      "cell_type": "code",
      "execution_count": null,
      "metadata": {
        "colab": {
          "base_uri": "https://localhost:8080/",
          "height": 320
        },
        "id": "CPcLvCKon6vG",
        "outputId": "533d77d8-e3c0-4e96-8051-0efde3f4e258"
      },
      "outputs": [
        {
          "data": {
            "application/vnd.google.colaboratory.intrinsic+json": {
              "summary": "{\n  \"name\": \"data\",\n  \"rows\": 8,\n  \"fields\": [\n    {\n      \"column\": \"caseid\",\n      \"properties\": {\n        \"dtype\": \"number\",\n        \"std\": 20564.75567519811,\n        \"min\": 1.0,\n        \"max\": 57061.0,\n        \"num_unique_values\": 6,\n        \"samples\": [\n          57061.0,\n          28531.0,\n          42796.0\n        ],\n        \"semantic_type\": \"\",\n        \"description\": \"\"\n      }\n    },\n    {\n      \"column\": \"year\",\n      \"properties\": {\n        \"dtype\": \"number\",\n        \"std\": 19582.017923459935,\n        \"min\": 11.724820418859306,\n        \"max\": 57061.0,\n        \"num_unique_values\": 8,\n        \"samples\": [\n          1992.0842607034576,\n          1993.0,\n          57061.0\n        ],\n        \"semantic_type\": \"\",\n        \"description\": \"\"\n      }\n    },\n    {\n      \"column\": \"age\",\n      \"properties\": {\n        \"dtype\": \"number\",\n        \"std\": 20087.393344861135,\n        \"min\": 17.472111953689158,\n        \"max\": 56859.0,\n        \"num_unique_values\": 8,\n        \"samples\": [\n          45.697954589422956,\n          43.0,\n          56859.0\n        ],\n        \"semantic_type\": \"\",\n        \"description\": \"\"\n      }\n    },\n    {\n      \"column\": \"educ\",\n      \"properties\": {\n        \"dtype\": \"number\",\n        \"std\": 20112.343471019194,\n        \"min\": 0.0,\n        \"max\": 56897.0,\n        \"num_unique_values\": 7,\n        \"samples\": [\n          56897.0,\n          12.753589820201416,\n          15.0\n        ],\n        \"semantic_type\": \"\",\n        \"description\": \"\"\n      }\n    },\n    {\n      \"column\": \"paeduc\",\n      \"properties\": {\n        \"dtype\": \"number\",\n        \"std\": 14199.87198361966,\n        \"min\": 0.0,\n        \"max\": 40173.0,\n        \"num_unique_values\": 8,\n        \"samples\": [\n          10.554003932989819,\n          12.0,\n          40173.0\n        ],\n        \"semantic_type\": \"\",\n        \"description\": \"\"\n      }\n    },\n    {\n      \"column\": \"maeduc\",\n      \"properties\": {\n        \"dtype\": \"number\",\n        \"std\": 16588.551474794942,\n        \"min\": 0.0,\n        \"max\": 46929.0,\n        \"num_unique_values\": 7,\n        \"samples\": [\n          46929.0,\n          10.713844318012317,\n          12.0\n        ],\n        \"semantic_type\": \"\",\n        \"description\": \"\"\n      }\n    },\n    {\n      \"column\": \"speduc\",\n      \"properties\": {\n        \"dtype\": \"number\",\n        \"std\": 10470.591209931044,\n        \"min\": 0.0,\n        \"max\": 29626.0,\n        \"num_unique_values\": 7,\n        \"samples\": [\n          29626.0,\n          12.780328090191048,\n          15.0\n        ],\n        \"semantic_type\": \"\",\n        \"description\": \"\"\n      }\n    },\n    {\n      \"column\": \"sei\",\n      \"properties\": {\n        \"dtype\": \"number\",\n        \"std\": 11042.11876139549,\n        \"min\": 17.1,\n        \"max\": 31277.0,\n        \"num_unique_values\": 8,\n        \"samples\": [\n          48.4235701032388,\n          39.0,\n          31277.0\n        ],\n        \"semantic_type\": \"\",\n        \"description\": \"\"\n      }\n    },\n    {\n      \"column\": \"sibs\",\n      \"properties\": {\n        \"dtype\": \"number\",\n        \"std\": 19576.20744053711,\n        \"min\": 0.0,\n        \"max\": 55382.0,\n        \"num_unique_values\": 8,\n        \"samples\": [\n          3.9400527247120003,\n          3.0,\n          55382.0\n        ],\n        \"semantic_type\": \"\",\n        \"description\": \"\"\n      }\n    },\n    {\n      \"column\": \"childs\",\n      \"properties\": {\n        \"dtype\": \"number\",\n        \"std\": 20109.27129386044,\n        \"min\": 0.0,\n        \"max\": 56880.0,\n        \"num_unique_values\": 7,\n        \"samples\": [\n          56880.0,\n          1.9528481012658228,\n          3.0\n        ],\n        \"semantic_type\": \"\",\n        \"description\": \"\"\n      }\n    },\n    {\n      \"column\": \"agekdbrn\",\n      \"properties\": {\n        \"dtype\": \"number\",\n        \"std\": 6397.310368658695,\n        \"min\": 5.432126729579687,\n        \"max\": 18119.0,\n        \"num_unique_values\": 8,\n        \"samples\": [\n          23.78712953253491,\n          23.0,\n          18119.0\n        ],\n        \"semantic_type\": \"\",\n        \"description\": \"\"\n      }\n    },\n    {\n      \"column\": \"granborn\",\n      \"properties\": {\n        \"dtype\": \"number\",\n        \"std\": 15908.046023550258,\n        \"min\": 0.0,\n        \"max\": 44996.0,\n        \"num_unique_values\": 6,\n        \"samples\": [\n          44996.0,\n          1.1545470708507424,\n          4.0\n        ],\n        \"semantic_type\": \"\",\n        \"description\": \"\"\n      }\n    },\n    {\n      \"column\": \"coninc\",\n      \"properties\": {\n        \"dtype\": \"number\",\n        \"std\": 54643.34635390284,\n        \"min\": 383.0,\n        \"max\": 180386.0,\n        \"num_unique_values\": 8,\n        \"samples\": [\n          44503.038315896316,\n          35602.0,\n          51232.0\n        ],\n        \"semantic_type\": \"\",\n        \"description\": \"\"\n      }\n    },\n    {\n      \"column\": \"rank\",\n      \"properties\": {\n        \"dtype\": \"number\",\n        \"std\": 3482.2681970891126,\n        \"min\": 1.0,\n        \"max\": 9854.0,\n        \"num_unique_values\": 8,\n        \"samples\": [\n          4.772681144712807,\n          5.0,\n          9854.0\n        ],\n        \"semantic_type\": \"\",\n        \"description\": \"\"\n      }\n    },\n    {\n      \"column\": \"tvhours\",\n      \"properties\": {\n        \"dtype\": \"number\",\n        \"std\": 11967.667370059266,\n        \"min\": 0.0,\n        \"max\": 33855.0,\n        \"num_unique_values\": 7,\n        \"samples\": [\n          33855.0,\n          2.9706985674198787,\n          4.0\n        ],\n        \"semantic_type\": \"\",\n        \"description\": \"\"\n      }\n    }\n  ]\n}",
              "type": "dataframe"
            },
            "text/html": [
              "\n",
              "  <div id=\"df-04139fe8-0ad7-41c7-ae7a-548b76416310\" class=\"colab-df-container\">\n",
              "    <div>\n",
              "<style scoped>\n",
              "    .dataframe tbody tr th:only-of-type {\n",
              "        vertical-align: middle;\n",
              "    }\n",
              "\n",
              "    .dataframe tbody tr th {\n",
              "        vertical-align: top;\n",
              "    }\n",
              "\n",
              "    .dataframe thead th {\n",
              "        text-align: right;\n",
              "    }\n",
              "</style>\n",
              "<table border=\"1\" class=\"dataframe\">\n",
              "  <thead>\n",
              "    <tr style=\"text-align: right;\">\n",
              "      <th></th>\n",
              "      <th>caseid</th>\n",
              "      <th>year</th>\n",
              "      <th>age</th>\n",
              "      <th>educ</th>\n",
              "      <th>paeduc</th>\n",
              "      <th>maeduc</th>\n",
              "      <th>speduc</th>\n",
              "      <th>sei</th>\n",
              "      <th>sibs</th>\n",
              "      <th>childs</th>\n",
              "      <th>agekdbrn</th>\n",
              "      <th>granborn</th>\n",
              "      <th>coninc</th>\n",
              "      <th>rank</th>\n",
              "      <th>tvhours</th>\n",
              "    </tr>\n",
              "  </thead>\n",
              "  <tbody>\n",
              "    <tr>\n",
              "      <th>count</th>\n",
              "      <td>57061.000000</td>\n",
              "      <td>57061.000000</td>\n",
              "      <td>56859.000000</td>\n",
              "      <td>56897.000000</td>\n",
              "      <td>40173.000000</td>\n",
              "      <td>46929.000000</td>\n",
              "      <td>29626.000000</td>\n",
              "      <td>31277.000000</td>\n",
              "      <td>55382.000000</td>\n",
              "      <td>56880.000000</td>\n",
              "      <td>18119.000000</td>\n",
              "      <td>44996.000000</td>\n",
              "      <td>51232.000000</td>\n",
              "      <td>9854.000000</td>\n",
              "      <td>33855.000000</td>\n",
              "    </tr>\n",
              "    <tr>\n",
              "      <th>mean</th>\n",
              "      <td>28531.000000</td>\n",
              "      <td>1992.084261</td>\n",
              "      <td>45.697955</td>\n",
              "      <td>12.753590</td>\n",
              "      <td>10.554004</td>\n",
              "      <td>10.713844</td>\n",
              "      <td>12.780328</td>\n",
              "      <td>48.423570</td>\n",
              "      <td>3.940053</td>\n",
              "      <td>1.952848</td>\n",
              "      <td>23.787130</td>\n",
              "      <td>1.154547</td>\n",
              "      <td>44503.038316</td>\n",
              "      <td>4.772681</td>\n",
              "      <td>2.970699</td>\n",
              "    </tr>\n",
              "    <tr>\n",
              "      <th>std</th>\n",
              "      <td>16472.236192</td>\n",
              "      <td>11.724820</td>\n",
              "      <td>17.472112</td>\n",
              "      <td>3.181642</td>\n",
              "      <td>4.349151</td>\n",
              "      <td>3.744795</td>\n",
              "      <td>3.128766</td>\n",
              "      <td>19.183154</td>\n",
              "      <td>3.190929</td>\n",
              "      <td>1.791539</td>\n",
              "      <td>5.432127</td>\n",
              "      <td>1.604481</td>\n",
              "      <td>35936.012301</td>\n",
              "      <td>1.855722</td>\n",
              "      <td>2.353317</td>\n",
              "    </tr>\n",
              "    <tr>\n",
              "      <th>min</th>\n",
              "      <td>1.000000</td>\n",
              "      <td>1972.000000</td>\n",
              "      <td>18.000000</td>\n",
              "      <td>0.000000</td>\n",
              "      <td>0.000000</td>\n",
              "      <td>0.000000</td>\n",
              "      <td>0.000000</td>\n",
              "      <td>17.100000</td>\n",
              "      <td>0.000000</td>\n",
              "      <td>0.000000</td>\n",
              "      <td>9.000000</td>\n",
              "      <td>0.000000</td>\n",
              "      <td>383.000000</td>\n",
              "      <td>1.000000</td>\n",
              "      <td>0.000000</td>\n",
              "    </tr>\n",
              "    <tr>\n",
              "      <th>25%</th>\n",
              "      <td>14266.000000</td>\n",
              "      <td>1983.000000</td>\n",
              "      <td>31.000000</td>\n",
              "      <td>12.000000</td>\n",
              "      <td>8.000000</td>\n",
              "      <td>8.000000</td>\n",
              "      <td>12.000000</td>\n",
              "      <td>32.400002</td>\n",
              "      <td>2.000000</td>\n",
              "      <td>0.000000</td>\n",
              "      <td>20.000000</td>\n",
              "      <td>0.000000</td>\n",
              "      <td>18445.000000</td>\n",
              "      <td>4.000000</td>\n",
              "      <td>2.000000</td>\n",
              "    </tr>\n",
              "    <tr>\n",
              "      <th>50%</th>\n",
              "      <td>28531.000000</td>\n",
              "      <td>1993.000000</td>\n",
              "      <td>43.000000</td>\n",
              "      <td>12.000000</td>\n",
              "      <td>12.000000</td>\n",
              "      <td>12.000000</td>\n",
              "      <td>12.000000</td>\n",
              "      <td>39.000000</td>\n",
              "      <td>3.000000</td>\n",
              "      <td>2.000000</td>\n",
              "      <td>23.000000</td>\n",
              "      <td>0.000000</td>\n",
              "      <td>35602.000000</td>\n",
              "      <td>5.000000</td>\n",
              "      <td>2.000000</td>\n",
              "    </tr>\n",
              "    <tr>\n",
              "      <th>75%</th>\n",
              "      <td>42796.000000</td>\n",
              "      <td>2002.000000</td>\n",
              "      <td>59.000000</td>\n",
              "      <td>15.000000</td>\n",
              "      <td>13.000000</td>\n",
              "      <td>12.000000</td>\n",
              "      <td>15.000000</td>\n",
              "      <td>63.500000</td>\n",
              "      <td>5.000000</td>\n",
              "      <td>3.000000</td>\n",
              "      <td>27.000000</td>\n",
              "      <td>2.000000</td>\n",
              "      <td>59542.000000</td>\n",
              "      <td>6.000000</td>\n",
              "      <td>4.000000</td>\n",
              "    </tr>\n",
              "    <tr>\n",
              "      <th>max</th>\n",
              "      <td>57061.000000</td>\n",
              "      <td>2012.000000</td>\n",
              "      <td>89.000000</td>\n",
              "      <td>20.000000</td>\n",
              "      <td>20.000000</td>\n",
              "      <td>20.000000</td>\n",
              "      <td>20.000000</td>\n",
              "      <td>97.199997</td>\n",
              "      <td>68.000000</td>\n",
              "      <td>8.000000</td>\n",
              "      <td>65.000000</td>\n",
              "      <td>4.000000</td>\n",
              "      <td>180386.000000</td>\n",
              "      <td>10.000000</td>\n",
              "      <td>24.000000</td>\n",
              "    </tr>\n",
              "  </tbody>\n",
              "</table>\n",
              "</div>\n",
              "    <div class=\"colab-df-buttons\">\n",
              "\n",
              "  <div class=\"colab-df-container\">\n",
              "    <button class=\"colab-df-convert\" onclick=\"convertToInteractive('df-04139fe8-0ad7-41c7-ae7a-548b76416310')\"\n",
              "            title=\"Convert this dataframe to an interactive table.\"\n",
              "            style=\"display:none;\">\n",
              "\n",
              "  <svg xmlns=\"http://www.w3.org/2000/svg\" height=\"24px\" viewBox=\"0 -960 960 960\">\n",
              "    <path d=\"M120-120v-720h720v720H120Zm60-500h600v-160H180v160Zm220 220h160v-160H400v160Zm0 220h160v-160H400v160ZM180-400h160v-160H180v160Zm440 0h160v-160H620v160ZM180-180h160v-160H180v160Zm440 0h160v-160H620v160Z\"/>\n",
              "  </svg>\n",
              "    </button>\n",
              "\n",
              "  <style>\n",
              "    .colab-df-container {\n",
              "      display:flex;\n",
              "      gap: 12px;\n",
              "    }\n",
              "\n",
              "    .colab-df-convert {\n",
              "      background-color: #E8F0FE;\n",
              "      border: none;\n",
              "      border-radius: 50%;\n",
              "      cursor: pointer;\n",
              "      display: none;\n",
              "      fill: #1967D2;\n",
              "      height: 32px;\n",
              "      padding: 0 0 0 0;\n",
              "      width: 32px;\n",
              "    }\n",
              "\n",
              "    .colab-df-convert:hover {\n",
              "      background-color: #E2EBFA;\n",
              "      box-shadow: 0px 1px 2px rgba(60, 64, 67, 0.3), 0px 1px 3px 1px rgba(60, 64, 67, 0.15);\n",
              "      fill: #174EA6;\n",
              "    }\n",
              "\n",
              "    .colab-df-buttons div {\n",
              "      margin-bottom: 4px;\n",
              "    }\n",
              "\n",
              "    [theme=dark] .colab-df-convert {\n",
              "      background-color: #3B4455;\n",
              "      fill: #D2E3FC;\n",
              "    }\n",
              "\n",
              "    [theme=dark] .colab-df-convert:hover {\n",
              "      background-color: #434B5C;\n",
              "      box-shadow: 0px 1px 3px 1px rgba(0, 0, 0, 0.15);\n",
              "      filter: drop-shadow(0px 1px 2px rgba(0, 0, 0, 0.3));\n",
              "      fill: #FFFFFF;\n",
              "    }\n",
              "  </style>\n",
              "\n",
              "    <script>\n",
              "      const buttonEl =\n",
              "        document.querySelector('#df-04139fe8-0ad7-41c7-ae7a-548b76416310 button.colab-df-convert');\n",
              "      buttonEl.style.display =\n",
              "        google.colab.kernel.accessAllowed ? 'block' : 'none';\n",
              "\n",
              "      async function convertToInteractive(key) {\n",
              "        const element = document.querySelector('#df-04139fe8-0ad7-41c7-ae7a-548b76416310');\n",
              "        const dataTable =\n",
              "          await google.colab.kernel.invokeFunction('convertToInteractive',\n",
              "                                                    [key], {});\n",
              "        if (!dataTable) return;\n",
              "\n",
              "        const docLinkHtml = 'Like what you see? Visit the ' +\n",
              "          '<a target=\"_blank\" href=https://colab.research.google.com/notebooks/data_table.ipynb>data table notebook</a>'\n",
              "          + ' to learn more about interactive tables.';\n",
              "        element.innerHTML = '';\n",
              "        dataTable['output_type'] = 'display_data';\n",
              "        await google.colab.output.renderOutput(dataTable, element);\n",
              "        const docLink = document.createElement('div');\n",
              "        docLink.innerHTML = docLinkHtml;\n",
              "        element.appendChild(docLink);\n",
              "      }\n",
              "    </script>\n",
              "  </div>\n",
              "\n",
              "\n",
              "<div id=\"df-a137665a-c8b3-482d-9e28-3ee7207ef8eb\">\n",
              "  <button class=\"colab-df-quickchart\" onclick=\"quickchart('df-a137665a-c8b3-482d-9e28-3ee7207ef8eb')\"\n",
              "            title=\"Suggest charts\"\n",
              "            style=\"display:none;\">\n",
              "\n",
              "<svg xmlns=\"http://www.w3.org/2000/svg\" height=\"24px\"viewBox=\"0 0 24 24\"\n",
              "     width=\"24px\">\n",
              "    <g>\n",
              "        <path d=\"M19 3H5c-1.1 0-2 .9-2 2v14c0 1.1.9 2 2 2h14c1.1 0 2-.9 2-2V5c0-1.1-.9-2-2-2zM9 17H7v-7h2v7zm4 0h-2V7h2v10zm4 0h-2v-4h2v4z\"/>\n",
              "    </g>\n",
              "</svg>\n",
              "  </button>\n",
              "\n",
              "<style>\n",
              "  .colab-df-quickchart {\n",
              "      --bg-color: #E8F0FE;\n",
              "      --fill-color: #1967D2;\n",
              "      --hover-bg-color: #E2EBFA;\n",
              "      --hover-fill-color: #174EA6;\n",
              "      --disabled-fill-color: #AAA;\n",
              "      --disabled-bg-color: #DDD;\n",
              "  }\n",
              "\n",
              "  [theme=dark] .colab-df-quickchart {\n",
              "      --bg-color: #3B4455;\n",
              "      --fill-color: #D2E3FC;\n",
              "      --hover-bg-color: #434B5C;\n",
              "      --hover-fill-color: #FFFFFF;\n",
              "      --disabled-bg-color: #3B4455;\n",
              "      --disabled-fill-color: #666;\n",
              "  }\n",
              "\n",
              "  .colab-df-quickchart {\n",
              "    background-color: var(--bg-color);\n",
              "    border: none;\n",
              "    border-radius: 50%;\n",
              "    cursor: pointer;\n",
              "    display: none;\n",
              "    fill: var(--fill-color);\n",
              "    height: 32px;\n",
              "    padding: 0;\n",
              "    width: 32px;\n",
              "  }\n",
              "\n",
              "  .colab-df-quickchart:hover {\n",
              "    background-color: var(--hover-bg-color);\n",
              "    box-shadow: 0 1px 2px rgba(60, 64, 67, 0.3), 0 1px 3px 1px rgba(60, 64, 67, 0.15);\n",
              "    fill: var(--button-hover-fill-color);\n",
              "  }\n",
              "\n",
              "  .colab-df-quickchart-complete:disabled,\n",
              "  .colab-df-quickchart-complete:disabled:hover {\n",
              "    background-color: var(--disabled-bg-color);\n",
              "    fill: var(--disabled-fill-color);\n",
              "    box-shadow: none;\n",
              "  }\n",
              "\n",
              "  .colab-df-spinner {\n",
              "    border: 2px solid var(--fill-color);\n",
              "    border-color: transparent;\n",
              "    border-bottom-color: var(--fill-color);\n",
              "    animation:\n",
              "      spin 1s steps(1) infinite;\n",
              "  }\n",
              "\n",
              "  @keyframes spin {\n",
              "    0% {\n",
              "      border-color: transparent;\n",
              "      border-bottom-color: var(--fill-color);\n",
              "      border-left-color: var(--fill-color);\n",
              "    }\n",
              "    20% {\n",
              "      border-color: transparent;\n",
              "      border-left-color: var(--fill-color);\n",
              "      border-top-color: var(--fill-color);\n",
              "    }\n",
              "    30% {\n",
              "      border-color: transparent;\n",
              "      border-left-color: var(--fill-color);\n",
              "      border-top-color: var(--fill-color);\n",
              "      border-right-color: var(--fill-color);\n",
              "    }\n",
              "    40% {\n",
              "      border-color: transparent;\n",
              "      border-right-color: var(--fill-color);\n",
              "      border-top-color: var(--fill-color);\n",
              "    }\n",
              "    60% {\n",
              "      border-color: transparent;\n",
              "      border-right-color: var(--fill-color);\n",
              "    }\n",
              "    80% {\n",
              "      border-color: transparent;\n",
              "      border-right-color: var(--fill-color);\n",
              "      border-bottom-color: var(--fill-color);\n",
              "    }\n",
              "    90% {\n",
              "      border-color: transparent;\n",
              "      border-bottom-color: var(--fill-color);\n",
              "    }\n",
              "  }\n",
              "</style>\n",
              "\n",
              "  <script>\n",
              "    async function quickchart(key) {\n",
              "      const quickchartButtonEl =\n",
              "        document.querySelector('#' + key + ' button');\n",
              "      quickchartButtonEl.disabled = true;  // To prevent multiple clicks.\n",
              "      quickchartButtonEl.classList.add('colab-df-spinner');\n",
              "      try {\n",
              "        const charts = await google.colab.kernel.invokeFunction(\n",
              "            'suggestCharts', [key], {});\n",
              "      } catch (error) {\n",
              "        console.error('Error during call to suggestCharts:', error);\n",
              "      }\n",
              "      quickchartButtonEl.classList.remove('colab-df-spinner');\n",
              "      quickchartButtonEl.classList.add('colab-df-quickchart-complete');\n",
              "    }\n",
              "    (() => {\n",
              "      let quickchartButtonEl =\n",
              "        document.querySelector('#df-a137665a-c8b3-482d-9e28-3ee7207ef8eb button');\n",
              "      quickchartButtonEl.style.display =\n",
              "        google.colab.kernel.accessAllowed ? 'block' : 'none';\n",
              "    })();\n",
              "  </script>\n",
              "</div>\n",
              "\n",
              "    </div>\n",
              "  </div>\n"
            ],
            "text/plain": [
              "             caseid          year           age          educ        paeduc  \\\n",
              "count  57061.000000  57061.000000  56859.000000  56897.000000  40173.000000   \n",
              "mean   28531.000000   1992.084261     45.697955     12.753590     10.554004   \n",
              "std    16472.236192     11.724820     17.472112      3.181642      4.349151   \n",
              "min        1.000000   1972.000000     18.000000      0.000000      0.000000   \n",
              "25%    14266.000000   1983.000000     31.000000     12.000000      8.000000   \n",
              "50%    28531.000000   1993.000000     43.000000     12.000000     12.000000   \n",
              "75%    42796.000000   2002.000000     59.000000     15.000000     13.000000   \n",
              "max    57061.000000   2012.000000     89.000000     20.000000     20.000000   \n",
              "\n",
              "             maeduc        speduc           sei          sibs        childs  \\\n",
              "count  46929.000000  29626.000000  31277.000000  55382.000000  56880.000000   \n",
              "mean      10.713844     12.780328     48.423570      3.940053      1.952848   \n",
              "std        3.744795      3.128766     19.183154      3.190929      1.791539   \n",
              "min        0.000000      0.000000     17.100000      0.000000      0.000000   \n",
              "25%        8.000000     12.000000     32.400002      2.000000      0.000000   \n",
              "50%       12.000000     12.000000     39.000000      3.000000      2.000000   \n",
              "75%       12.000000     15.000000     63.500000      5.000000      3.000000   \n",
              "max       20.000000     20.000000     97.199997     68.000000      8.000000   \n",
              "\n",
              "           agekdbrn      granborn         coninc         rank       tvhours  \n",
              "count  18119.000000  44996.000000   51232.000000  9854.000000  33855.000000  \n",
              "mean      23.787130      1.154547   44503.038316     4.772681      2.970699  \n",
              "std        5.432127      1.604481   35936.012301     1.855722      2.353317  \n",
              "min        9.000000      0.000000     383.000000     1.000000      0.000000  \n",
              "25%       20.000000      0.000000   18445.000000     4.000000      2.000000  \n",
              "50%       23.000000      0.000000   35602.000000     5.000000      2.000000  \n",
              "75%       27.000000      2.000000   59542.000000     6.000000      4.000000  \n",
              "max       65.000000      4.000000  180386.000000    10.000000     24.000000  "
            ]
          },
          "execution_count": 58,
          "metadata": {},
          "output_type": "execute_result"
        }
      ],
      "source": [
        "data.describe()"
      ]
    },
    {
      "cell_type": "markdown",
      "metadata": {
        "id": "S2qzWlErnJcS"
      },
      "source": [
        "## GENERAL DESCRIPTION OF THE DATA ABOVE. SOME DATA TYPES, EVEN THOUGH ARE NUMERICAL, THERE IS NO NEED TO MAKE ALL THE STATISTICAL DESCRIPTIONS, THEREFORE SOME STATISTICAL DESCRIPTIONS CAN BE IGNORED.\n",
        "\n",
        "### ONE EXAMPLE WOULD BE THE CASEID WICH IS ONLY FOR IDENTIFICATION PRUPOUSES DURING DATA EXPLORATION.\n",
        "\n",
        "### OTHER EXAMPLE WOULD BE THE YEAR, WICH CAN BE USED FOR KNOWING WICH YEARS HAVE MORE REGISTRIES, SO IN CASE WE NEED TO EXTRACT A INTERVAL FOR A HYPOTESIS, A DENSER SAMPLE WOULD MEAN A SMALLER INTERVAL."
      ]
    },
    {
      "cell_type": "code",
      "execution_count": null,
      "metadata": {
        "colab": {
          "base_uri": "https://localhost:8080/",
          "height": 472
        },
        "id": "HOTukcTgqF-N",
        "outputId": "fe6ec3e5-00c4-45bb-b56d-7898fa023d74"
      },
      "outputs": [
        {
          "data": {
            "image/png": "[encoded data removed]",
            "text/plain": [
              "<Figure size 640x480 with 1 Axes>"
            ]
          },
          "metadata": {},
          "output_type": "display_data"
        }
      ],
      "source": [
        "data['educ'].hist()\n",
        "plt.xlabel('School years completed')\n",
        "plt.ylabel('Freq')\n",
        "plt.title('Distribution of completed school years.')\n",
        "plt.show()\n"
      ]
    },
    {
      "cell_type": "markdown",
      "metadata": {
        "id": "mowmE8rcqcB0"
      },
      "source": [
        "## THE 'EDUC' COLUMN COUNTS THE NUMBER OF COMPLETED SCHOOL YEARS DECLARED BY THE PERSON SURVEYED. THE HISTOGRAM IS SOMEWHAT NORMAL IN DISTRIBUTION.\n",
        "\n",
        "### IT CAN BE SEEN THAT THE MAYORITY OF THE SURVEYED PEOPLE DECLARES ABOUT 13 YEARS OF COMPLETED SCHOOL YEARS, WICH GOES ACCORDINGLY WITH THE MEAN ABOVE WICH IS 12.75. THIS IS NOT NECESARILY TRUE IN ALL DATASETS, GENERALLY SPEAKING, THE BIGGER THE STANDARD DEVIATION IS LESS PROBABLE THAT THE MODE IS SIMILAR THE MEAN, THIS IS NOT A RULE, IT CAN OCCUR THE CONTRARY, BUT THAT WOULD MEAN THERE IS A BIGGER PEAK THAN IN THIS CASE, WICH WOULD NEED A DIFFERENT ANALYSIS."
      ]
    },
    {
      "cell_type": "code",
      "execution_count": 5,
      "metadata": {
        "id": "_HJzy1IhxVcT"
      },
      "outputs": [],
      "source": [
        "import statsmodels.api as sm"
      ]
    },
    {
      "cell_type": "code",
      "execution_count": null,
      "metadata": {
        "colab": {
          "base_uri": "https://localhost:8080/"
        },
        "id": "je4Q42ZXzAHD",
        "outputId": "6d668291-2ee4-43fa-c70a-31acbb2ad764"
      },
      "outputs": [
        {
          "name": "stdout",
          "output_type": "stream",
          "text": [
            "Proportion of people owning at least one  gun at home: 0.4854368932038835\n"
          ]
        }
      ],
      "source": [
        "prop_guns = data['owngun'].value_counts(normalize=True)\n",
        "print(\"Proportion of people owning at least one  gun at home:\", prop_guns[1])"
      ]
    },
    {
      "cell_type": "code",
      "execution_count": null,
      "metadata": {
        "colab": {
          "base_uri": "https://localhost:8080/",
          "height": 513
        },
        "id": "kbTkDcTczGGh",
        "outputId": "9f2d6d52-c8e8-4b40-b25e-16c7b3708d94"
      },
      "outputs": [
        {
          "data": {
            "image/png": "[encoded data removed]",
            "text/plain": [
              "<Figure size 640x480 with 1 Axes>"
            ]
          },
          "metadata": {},
          "output_type": "display_data"
        }
      ],
      "source": [
        "data['owngun'].value_counts().plot(kind='bar')\n",
        "plt.xlabel('Owns a gun (yes/no)')\n",
        "plt.ylabel('Freq')\n",
        "plt.title('Distribution of gun ownership at home.')\n",
        "plt.show()"
      ]
    },
    {
      "cell_type": "markdown",
      "metadata": {
        "id": "VaKATDVX1hpr"
      },
      "source": [
        "## FIRST IS VISUALIZED THE FREQUENCY OF PEOPLE SURVEYED WITH AT LEAST ONE GUN AT HOME."
      ]
    },
    {
      "cell_type": "code",
      "execution_count": 6,
      "metadata": {
        "colab": {
          "base_uri": "https://localhost:8080/"
        },
        "id": "Q2m3FxgJ3u9D",
        "outputId": "6d983a99-5d6d-48d8-cf14-4330383d1fd4"
      },
      "outputs": [
        {
          "output_type": "stream",
          "name": "stdout",
          "text": [
            "Requirement already satisfied: statsmodels in /usr/local/lib/python3.10/dist-packages (0.14.2)\n",
            "Requirement already satisfied: numpy>=1.22.3 in /usr/local/lib/python3.10/dist-packages (from statsmodels) (1.25.2)\n",
            "Requirement already satisfied: scipy!=1.9.2,>=1.8 in /usr/local/lib/python3.10/dist-packages (from statsmodels) (1.11.4)\n",
            "Requirement already satisfied: pandas!=2.1.0,>=1.4 in /usr/local/lib/python3.10/dist-packages (from statsmodels) (2.0.3)\n",
            "Requirement already satisfied: patsy>=0.5.6 in /usr/local/lib/python3.10/dist-packages (from statsmodels) (0.5.6)\n",
            "Requirement already satisfied: packaging>=21.3 in /usr/local/lib/python3.10/dist-packages (from statsmodels) (24.0)\n",
            "Requirement already satisfied: python-dateutil>=2.8.2 in /usr/local/lib/python3.10/dist-packages (from pandas!=2.1.0,>=1.4->statsmodels) (2.8.2)\n",
            "Requirement already satisfied: pytz>=2020.1 in /usr/local/lib/python3.10/dist-packages (from pandas!=2.1.0,>=1.4->statsmodels) (2023.4)\n",
            "Requirement already satisfied: tzdata>=2022.1 in /usr/local/lib/python3.10/dist-packages (from pandas!=2.1.0,>=1.4->statsmodels) (2024.1)\n",
            "Requirement already satisfied: six in /usr/local/lib/python3.10/dist-packages (from patsy>=0.5.6->statsmodels) (1.16.0)\n"
          ]
        }
      ],
      "source": [
        "!pip install statsmodels"
      ]
    },
    {
      "cell_type": "code",
      "execution_count": null,
      "metadata": {
        "id": "g6dtMJSm4fy5"
      },
      "outputs": [],
      "source": [
        "from scipy.stats import chi2_contingency"
      ]
    },
    {
      "cell_type": "markdown",
      "metadata": {
        "id": "l-U1JJUS_2J7"
      },
      "source": [
        "# NOW LETS PRETEND A DATA PROFESSIONAL IS ASKED TO DETERMINE IF THERE IS A RELATIONSHIP BETWEEN GUN OWNERSHIP AND EDUCATION, SO INSTEAD OF GUN REGULATION, THE GOVERMENT COULD MAKE EDUCATION BASED STRATEGIES TO IMPOROVE GUN CONTROL WITHOUT THE POLITICAL BACKLASH THAT COMES WITH A MORE DIRECT APROACH."
      ]
    },
    {
      "cell_type": "markdown",
      "metadata": {
        "id": "YtsGJ_xJ--xg"
      },
      "source": [
        "H0: THERE IS NO ASSOCIATION BETWEEN THE NUMBER OF YEARS OF EDUCATION COMPLETED (EDUC) AND GUN OWNERSHIP (OWNGUN).\n",
        "HA: THERE IS A INVERSE ASSOCIATION BETWEEN THE NUMBER OF YEARS OF EDUCATION COMPLETED AND GUN OWNERSHIP."
      ]
    },
    {
      "cell_type": "markdown",
      "metadata": {
        "id": "vtkltVLEDZuz"
      },
      "source": [
        "SINCE THERE IS A NUMERIC DATA COLUMN AND A CATEGORIC DATA COLUMN, CHI SQUARED APROACH IS USED TO DETERMINE IF THERE IS RELATION BETWEEN THOSE COLUMNS."
      ]
    },
    {
      "cell_type": "code",
      "execution_count": null,
      "metadata": {
        "colab": {
          "base_uri": "https://localhost:8080/"
        },
        "id": "TNw8Mcg85Su0",
        "outputId": "91011974-ba7e-4416-d733-5f56d65dfd0e"
      },
      "outputs": [
        {
          "name": "stdout",
          "output_type": "stream",
          "text": [
            "Chi-square test:\n",
            "Chi-square statistic: 334.19316733434397\n",
            "p-value: 4.307418318315088e-48\n"
          ]
        }
      ],
      "source": [
        "contingency_table = pd.crosstab(data['educ'], data['owngun'])\n",
        "chi2, p_value_chi2, _, _ = chi2_contingency(contingency_table)\n",
        "print(\"Chi-square test:\")\n",
        "print(\"Chi-square statistic:\", chi2)\n",
        "print(\"p-value:\", p_value_chi2)"
      ]
    },
    {
      "cell_type": "markdown",
      "metadata": {
        "id": "UXsQ1J6-uBkE"
      },
      "source": [
        "SINCE THERE IS A COMPARISON OF A CATEGORIC DATATYPE AND A NUMERICAL DATATYPE, AN ANALYTICAL APROACH IS NEEDED, IF THE CASE WERE TWO NUMERICAL VARIABLES, A SIMPLE SCATTER GRAPH WOULD BE ENOUGH TO DETERMINE IF THERE IS A CORRELATION."
      ]
    },
    {
      "cell_type": "markdown",
      "metadata": {
        "id": "nJAULmvwBeJl"
      },
      "source": [
        "### WITH THAT CONSIDERABLY BIG CHI SQUARED STATISTIC AND A EXCEPTIONALLY LOW P VALUE, MUCH LOWER THAN 0.05 WICH WOULD BE STATISTICALLY SIGNIFICANT, THE H0 CAN BE REJECTED, THEREFORE THE EVIDENCE GOES IN FAVOR TO BE THE EDUCATION A GOOD MEASURE FOR GUN CONTROL, AND A STRATEGY CAN BEGIN TO BE DEVELOPED. IN  THIS CASE IT WOULD BE A GOOD IDEA TO GATHER MORE DATA TO MEASURE WICH APROACH WITH EDUCATION WOULD BE THE BEST TO MAXIMICE RESULTS WITH THE LEAST RESOURSES SPENT IN THE EXECUTION OF THE PROJECT."
      ]
    },
    {
      "cell_type": "code",
      "execution_count": 7,
      "metadata": {
        "id": "FrP88Y1VuFIT"
      },
      "outputs": [],
      "source": [
        "grouped_data = data.groupby('educ')['owngun'].value_counts(normalize=True)"
      ]
    },
    {
      "cell_type": "code",
      "execution_count": 8,
      "metadata": {
        "colab": {
          "base_uri": "https://localhost:8080/"
        },
        "id": "eTeJ_qedzT2H",
        "outputId": "21f057fc-5e31-42a1-db60-5722fd796aea"
      },
      "outputs": [
        {
          "output_type": "stream",
          "name": "stdout",
          "text": [
            "educ  owngun\n",
            "0.0   Yes       42.9%\n",
            "1.0   Yes       52.9%\n",
            "2.0   Yes       44.9%\n",
            "3.0   Yes       37.3%\n",
            "4.0   Yes       45.4%\n",
            "5.0   Yes       41.7%\n",
            "6.0   Yes       41.9%\n",
            "7.0   Yes       44.4%\n",
            "8.0   Yes       44.5%\n",
            "9.0   Yes       43.2%\n",
            "10.0  Yes       41.3%\n",
            "11.0  Yes       45.1%\n",
            "12.0  Yes       49.1%\n",
            "13.0  Yes       41.8%\n",
            "14.0  Yes       43.0%\n",
            "15.0  Yes       39.0%\n",
            "16.0  Yes       36.0%\n",
            "17.0  Yes       38.0%\n",
            "18.0  Yes       34.7%\n",
            "19.0  Yes       34.3%\n",
            "20.0  Yes       31.1%\n",
            "Name: proportion, dtype: object\n"
          ]
        }
      ],
      "source": [
        "ownership_proportions = grouped_data[grouped_data.index.get_level_values(1) == 'Yes']\n",
        "ownership_proportions_str = (ownership_proportions * 100).apply(lambda x: f\"{x:.1f}%\")\n",
        "print(ownership_proportions_str)"
      ]
    },
    {
      "cell_type": "code",
      "execution_count": null,
      "metadata": {
        "colab": {
          "base_uri": "https://localhost:8080/",
          "height": 472
        },
        "id": "Qjn3DJ7E1pU2",
        "outputId": "dd05ee74-9dc7-45d5-e89c-665a6ca25a01"
      },
      "outputs": [
        {
          "data": {
            "image/png": "[encoded data removed]",
            "text/plain": [
              "<Figure size 640x480 with 1 Axes>"
            ]
          },
          "metadata": {},
          "output_type": "display_data"
        }
      ],
      "source": [
        "ownership_proportions.plot(kind='line')\n",
        "plt.xlabel('Years of school education')\n",
        "plt.ylabel('Proportion of gun ownership')\n",
        "plt.title('Distribution of gun ownership at home by years of education.')\n",
        "plt.show()"
      ]
    },
    {
      "cell_type": "markdown",
      "metadata": {
        "id": "15YihFSE4bWX"
      },
      "source": [
        "### IT CAN BE SEEN THAT FROM 13 YEARS OF EDUCATION, THE PROBABILITY FOR AN INDIVIDUAL TO OWN A GUN AT HOME DECREASES ABRUPTLY. THE PEAK IT´S RIGHT NEXT TO THE MEAN OF THE YEARS OF EDUCATION, SO IT´S IMPORTANT TO REVIEW WHY THIS FENOMENON HAPPENS."
      ]
    },
    {
      "cell_type": "code",
      "execution_count": null,
      "metadata": {
        "colab": {
          "base_uri": "https://localhost:8080/"
        },
        "id": "jhpu3glQ55kV",
        "outputId": "1ae3e5ba-083e-4a45-8b3f-bf300bc43dc1"
      },
      "outputs": [
        {
          "name": "stdout",
          "output_type": "stream",
          "text": [
            "5829\n",
            "164\n"
          ]
        }
      ],
      "source": [
        "print(data['coninc'].isnull().sum())\n",
        "print(data['educ'].isnull().sum())"
      ]
    },
    {
      "cell_type": "code",
      "execution_count": null,
      "metadata": {
        "colab": {
          "base_uri": "https://localhost:8080/",
          "height": 472
        },
        "id": "GOKf5nrb7N19",
        "outputId": "bb752838-c96d-4cfd-debf-33505f971933"
      },
      "outputs": [
        {
          "data": {
            "image/png": "[encoded data removed]",
            "text/plain": [
              "<Figure size 640x480 with 1 Axes>"
            ]
          },
          "metadata": {},
          "output_type": "display_data"
        }
      ],
      "source": [
        "mean_coninc_by_educ = data.groupby('educ')['coninc'].mean()\n",
        "mean_coninc_by_educ.plot(kind='line', marker='o')\n",
        "plt.xlabel('Years of school education')\n",
        "plt.ylabel('Mean Constant Income')\n",
        "plt.title('Mean Constant Income by Education Level')\n",
        "plt.grid(True)\n",
        "plt.show()"
      ]
    },
    {
      "cell_type": "markdown",
      "metadata": {
        "id": "Gh5Y6kdr8WWv"
      },
      "source": [
        "## AS EXPECTED THERE IS A POSITIVE LINEAR RELATIONSHIP BETWEEN EDUCATION AND INCOME, THE HYPOTESIS WOULD BE THAT UNDER 10 YEARS OF EDUCATION (WHERE THE SLOPE OF THE GRAPH 'Distribution of gun ownership at home by years of education.' CHANGES ABRUPTLY) THE LOW INCOME IS THE MAIN REASON THE GUN OWNERSHIP IS NOT HIGHER, AND OVER 15 YEARS OF EDUCATION, THE EDUCATION ITSELF IS THE REASON PEOPLE ARE NOT INTERESTED IN OWNING GUNS."
      ]
    },
    {
      "cell_type": "code",
      "execution_count": null,
      "metadata": {
        "colab": {
          "base_uri": "https://localhost:8080/"
        },
        "id": "O2b4x8hv_BPZ",
        "outputId": "017a23fe-b067-46a5-a086-bedbc8de2fe2"
      },
      "outputs": [
        {
          "name": "stdout",
          "output_type": "stream",
          "text": [
            "Gun ownership proportion (<=10 years): 0.25137266646700607\n",
            "Gun ownership proportion (10-15 years): 0.24335723323492198\n",
            "Average income (<=10 years): $23659.77\n",
            "Average income (10-15 years): $42807.73\n"
          ]
        }
      ],
      "source": [
        "group_1_data = data[data['educ'] <= 10]\n",
        "group_2_data = data[(data['educ'] == 13)]\n",
        "\n",
        "group_1_ownership_prop = (group_1_data['owngun'] == 'Yes').mean()\n",
        "group_2_ownership_prop = (group_2_data['owngun'] == 'Yes').mean()\n",
        "\n",
        "group_1_avg_income = group_1_data['coninc'].mean()\n",
        "group_2_avg_income = group_2_data['coninc'].mean()\n",
        "\n",
        "print(f\"Gun ownership proportion (<=10 years): {group_1_ownership_prop}\")\n",
        "print(f\"Gun ownership proportion (10-15 years): {group_2_ownership_prop}\")\n",
        "print(f\"Average income (<=10 years): ${group_1_avg_income:.2f}\")\n",
        "print(f\"Average income (10-15 years): ${group_2_avg_income:.2f}\")"
      ]
    },
    {
      "cell_type": "markdown",
      "metadata": {
        "id": "Vgg8av-_BCG2"
      },
      "source": [
        "# H0: THERE IS NO DIFFERENCE IN GUN OWNERSHIP PROPORTION BETWEEN GROUPS.\n",
        "# HA: THERE IS A DIFFERENCE IN GUN OWNERSHIP PROPORTION BETWEEN GROUPS."
      ]
    },
    {
      "cell_type": "code",
      "execution_count": null,
      "metadata": {
        "colab": {
          "base_uri": "https://localhost:8080/"
        },
        "id": "FKlQh7u4_9Pc",
        "outputId": "09bb7873-ace5-4a5e-e269-95e2d49da268"
      },
      "outputs": [
        {
          "name": "stdout",
          "output_type": "stream",
          "text": [
            "t-statistic: 90.5364\n",
            "p-value: 0.0000\n",
            "There is a significant difference in gun ownership proportion between groups.\n"
          ]
        }
      ],
      "source": [
        "t_statistic, p_value = stats.ttest_ind_from_stats(\n",
        "    mean1=group_1_ownership_prop,\n",
        "    std1=np.sqrt(group_1_ownership_prop * (1 - group_1_ownership_prop) / len(group_1_data)),\n",
        "    nobs1=len(group_1_data),\n",
        "    mean2=group_2_ownership_prop,\n",
        "    std2=np.sqrt(group_2_ownership_prop * (1 - group_2_ownership_prop) / len(group_2_data)),\n",
        "    nobs2=len(group_2_data),\n",
        ")\n",
        "\n",
        "print(f\"t-statistic: {t_statistic:.4f}\")\n",
        "print(f\"p-value: {p_value:.4f}\")\n",
        "\n",
        "alpha = 0.05\n",
        "if p_value < alpha:\n",
        "    print(\"There is a significant difference in gun ownership proportion between groups.\")\n",
        "else:\n",
        "    print(\"There is no significant difference in gun ownership proportion between groups.\")\n"
      ]
    },
    {
      "cell_type": "markdown",
      "metadata": {
        "id": "VDevPa4lEAYh"
      },
      "source": [
        "### WHILE THE ANALYSIS CANNOT DEFINITIVELY ESTABLISH CAUSATION, THE RESULTS SUGGEST A POSSIBLE ASSOCIATION BETWEEN EDUCATION LEVEL, INCOME, AND GUN OWNERSHIP. INDIVIDUALS WITH LESS THAN 13 YEARS OF EDUCATION TEND TO HAVE LOWER INCOMES AND LOWER GUN OWNERSHIP RATES. THIS MIGHT IMPLY A LINK BETWEEN INCOME AND GUN OWNERSHIP IN THIS GROUP. CONVERSELY, FOR INDIVIDUALS WITH MORE THAN 15 YEARS OF EDUCATION, GUN OWNERSHIP SEEMS LESS PREVALENT, POTENTIALLY SUGGESTING THAT EDUCATION ITSELF MAY BE A FACTOR INFLUENCING GUN CONTROL ATTITUDES, INDEPENDENT OF INCOME. THESE INSIGHTS SUPPORT FURTHER INVESTIGATION INTO THE RELATIONSHIP BETWEEN SOCIOECONOMIC FACTORS AND GUN OWNERSHIP. ADDITIONALLY, THEY LEND SUPPORT TO THE IDEA OF INVESTING IN INITIATIVES THAT INCREASE EDUCATIONAL ATTAINMENT, AS THIS MAY HAVE BROADER SOCIETAL BENEFITS BEYOND JUST BETTER INCOME."
      ]
    }
  ],
  "metadata": {
    "colab": {
      "provenance": [],
      "authorship_tag": "ABX9TyMe0KRfDS2bZGjzlFteCxWd"
    },
    "kernelspec": {
      "display_name": "Python 3",
      "name": "python3"
    },
    "language_info": {
      "name": "python"
    }
  },
  "nbformat": 4,
  "nbformat_minor": 0
}